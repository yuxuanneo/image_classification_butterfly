{
  "cells": [
    {
      "cell_type": "markdown",
      "metadata": {
        "id": "view-in-github",
        "colab_type": "text"
      },
      "source": [
        "<a href=\"https://colab.research.google.com/github/yuxuanneo/image_classification_butterfly/blob/main/model_training.ipynb\" target=\"_parent\"><img src=\"https://colab.research.google.com/assets/colab-badge.svg\" alt=\"Open In Colab\"/></a>"
      ]
    },
    {
      "cell_type": "markdown",
      "metadata": {
        "id": "Lt1ZzvJZaFXc"
      },
      "source": [
        "reference: https://medium.com/@ashwindesilva/how-to-use-google-colaboratory-to-clone-a-github-repository-e07cf8d3d22b"
      ]
    },
    {
      "cell_type": "code",
      "execution_count": 1,
      "metadata": {
        "colab": {
          "base_uri": "https://localhost:8080/"
        },
        "id": "B9995SWhW4Rd",
        "outputId": "a16d8d26-62c4-4cf1-c7c1-8494146f4a5c"
      },
      "outputs": [
        {
          "output_type": "stream",
          "name": "stdout",
          "text": [
            "Drive already mounted at /content/gdrive; to attempt to forcibly remount, call drive.mount(\"/content/gdrive\", force_remount=True).\n",
            "/content/gdrive/My Drive/butterfly_project/butterfly\n",
            "Already up to date.\n",
            "Looking in indexes: https://pypi.org/simple, https://us-python.pkg.dev/colab-wheels/public/simple/\n",
            "Requirement already satisfied: openmim in /usr/local/lib/python3.7/dist-packages (0.3.2)\n",
            "Requirement already satisfied: pip>=19.3 in /usr/local/lib/python3.7/dist-packages (from openmim) (21.1.3)\n",
            "Requirement already satisfied: Click in /usr/local/lib/python3.7/dist-packages (from openmim) (7.1.2)\n",
            "Requirement already satisfied: rich in /usr/local/lib/python3.7/dist-packages (from openmim) (12.6.0)\n",
            "Requirement already satisfied: model-index in /usr/local/lib/python3.7/dist-packages (from openmim) (0.1.11)\n",
            "Requirement already satisfied: requests in /usr/local/lib/python3.7/dist-packages (from openmim) (2.23.0)\n",
            "Requirement already satisfied: pandas in /usr/local/lib/python3.7/dist-packages (from openmim) (1.3.5)\n",
            "Requirement already satisfied: colorama in /usr/local/lib/python3.7/dist-packages (from openmim) (0.4.5)\n",
            "Requirement already satisfied: tabulate in /usr/local/lib/python3.7/dist-packages (from openmim) (0.8.10)\n",
            "Requirement already satisfied: pyyaml in /usr/local/lib/python3.7/dist-packages (from model-index->openmim) (6.0)\n",
            "Requirement already satisfied: markdown in /usr/local/lib/python3.7/dist-packages (from model-index->openmim) (3.4.1)\n",
            "Requirement already satisfied: ordered-set in /usr/local/lib/python3.7/dist-packages (from model-index->openmim) (4.1.0)\n",
            "Requirement already satisfied: importlib-metadata>=4.4 in /usr/local/lib/python3.7/dist-packages (from markdown->model-index->openmim) (4.12.0)\n",
            "Requirement already satisfied: zipp>=0.5 in /usr/local/lib/python3.7/dist-packages (from importlib-metadata>=4.4->markdown->model-index->openmim) (3.8.1)\n",
            "Requirement already satisfied: typing-extensions>=3.6.4 in /usr/local/lib/python3.7/dist-packages (from importlib-metadata>=4.4->markdown->model-index->openmim) (4.1.1)\n",
            "Requirement already satisfied: pytz>=2017.3 in /usr/local/lib/python3.7/dist-packages (from pandas->openmim) (2022.2.1)\n",
            "Requirement already satisfied: python-dateutil>=2.7.3 in /usr/local/lib/python3.7/dist-packages (from pandas->openmim) (2.8.2)\n",
            "Requirement already satisfied: numpy>=1.17.3 in /usr/local/lib/python3.7/dist-packages (from pandas->openmim) (1.21.6)\n",
            "Requirement already satisfied: six>=1.5 in /usr/local/lib/python3.7/dist-packages (from python-dateutil>=2.7.3->pandas->openmim) (1.15.0)\n",
            "Requirement already satisfied: chardet<4,>=3.0.2 in /usr/local/lib/python3.7/dist-packages (from requests->openmim) (3.0.4)\n",
            "Requirement already satisfied: idna<3,>=2.5 in /usr/local/lib/python3.7/dist-packages (from requests->openmim) (2.10)\n",
            "Requirement already satisfied: certifi>=2017.4.17 in /usr/local/lib/python3.7/dist-packages (from requests->openmim) (2022.6.15)\n",
            "Requirement already satisfied: urllib3!=1.25.0,!=1.25.1,<1.26,>=1.21.1 in /usr/local/lib/python3.7/dist-packages (from requests->openmim) (1.24.3)\n",
            "Requirement already satisfied: pygments<3.0.0,>=2.6.0 in /usr/local/lib/python3.7/dist-packages (from rich->openmim) (2.6.1)\n",
            "Requirement already satisfied: commonmark<0.10.0,>=0.9.0 in /usr/local/lib/python3.7/dist-packages (from rich->openmim) (0.9.1)\n",
            "Looking in indexes: https://pypi.org/simple, https://us-python.pkg.dev/colab-wheels/public/simple/\n",
            "Looking in links: https://download.openmmlab.com/mmcv/dist/cu113/torch1.12.0/index.html\n",
            "Requirement already satisfied: mmcv-full in /usr/local/lib/python3.7/dist-packages (1.6.2)\n",
            "Requirement already satisfied: addict in /usr/local/lib/python3.7/dist-packages (from mmcv-full) (2.4.0)\n",
            "Requirement already satisfied: opencv-python>=3 in /usr/local/lib/python3.7/dist-packages (from mmcv-full) (4.6.0.66)\n",
            "Requirement already satisfied: pyyaml in /usr/local/lib/python3.7/dist-packages (from mmcv-full) (6.0)\n",
            "Requirement already satisfied: yapf in /usr/local/lib/python3.7/dist-packages (from mmcv-full) (0.32.0)\n",
            "Requirement already satisfied: packaging in /usr/local/lib/python3.7/dist-packages (from mmcv-full) (21.3)\n",
            "Requirement already satisfied: numpy in /usr/local/lib/python3.7/dist-packages (from mmcv-full) (1.21.6)\n",
            "Requirement already satisfied: Pillow in /usr/local/lib/python3.7/dist-packages (from mmcv-full) (7.1.2)\n",
            "Requirement already satisfied: pyparsing!=3.0.5,>=2.0.2 in /usr/local/lib/python3.7/dist-packages (from packaging->mmcv-full) (3.0.9)\n",
            "/content/gdrive/MyDrive/butterfly_project/butterfly/src/mmclassification\n",
            "Looking in indexes: https://pypi.org/simple, https://us-python.pkg.dev/colab-wheels/public/simple/\n",
            "Obtaining file:///content/gdrive/MyDrive/butterfly_project/butterfly/src/mmclassification\n",
            "Requirement already satisfied: matplotlib in /usr/local/lib/python3.7/dist-packages (from mmcls==0.23.2) (3.2.2)\n",
            "Requirement already satisfied: numpy in /usr/local/lib/python3.7/dist-packages (from mmcls==0.23.2) (1.21.6)\n",
            "Requirement already satisfied: packaging in /usr/local/lib/python3.7/dist-packages (from mmcls==0.23.2) (21.3)\n",
            "Requirement already satisfied: pyparsing!=2.0.4,!=2.1.2,!=2.1.6,>=2.0.1 in /usr/local/lib/python3.7/dist-packages (from matplotlib->mmcls==0.23.2) (3.0.9)\n",
            "Requirement already satisfied: python-dateutil>=2.1 in /usr/local/lib/python3.7/dist-packages (from matplotlib->mmcls==0.23.2) (2.8.2)\n",
            "Requirement already satisfied: cycler>=0.10 in /usr/local/lib/python3.7/dist-packages (from matplotlib->mmcls==0.23.2) (0.11.0)\n",
            "Requirement already satisfied: kiwisolver>=1.0.1 in /usr/local/lib/python3.7/dist-packages (from matplotlib->mmcls==0.23.2) (1.4.4)\n",
            "Requirement already satisfied: typing-extensions in /usr/local/lib/python3.7/dist-packages (from kiwisolver>=1.0.1->matplotlib->mmcls==0.23.2) (4.1.1)\n",
            "Requirement already satisfied: six>=1.5 in /usr/local/lib/python3.7/dist-packages (from python-dateutil>=2.1->matplotlib->mmcls==0.23.2) (1.15.0)\n",
            "Installing collected packages: mmcls\n",
            "  Attempting uninstall: mmcls\n",
            "    Found existing installation: mmcls 0.23.2\n",
            "    Can't uninstall 'mmcls'. No files were found to uninstall.\n",
            "  Running setup.py develop for mmcls\n",
            "Successfully installed mmcls-0.23.2\n",
            "/content/gdrive/MyDrive/butterfly_project/butterfly\n"
          ]
        }
      ],
      "source": [
        "from google.colab import drive\n",
        "\n",
        "drive.mount('/content/gdrive')\n",
        "%cd gdrive/My Drive/butterfly_project/butterfly\n",
        "! git pull\n",
        "\n",
        "# mmcls\n",
        "!pip3 install openmim\n",
        "!mim install mmcv-full\n",
        "\n",
        "%cd src/mmclassification\n",
        "!pip install -e .\n",
        "\n",
        "%cd ../..\n",
        "from src.train_model import train_model\n",
        "from src.test_model import test_model"
      ]
    },
    {
      "cell_type": "markdown",
      "metadata": {
        "id": "O2PIl_6itvEw"
      },
      "source": [
        "## ResNet-50"
      ]
    },
    {
      "cell_type": "code",
      "execution_count": null,
      "metadata": {
        "colab": {
          "base_uri": "https://localhost:8080/",
          "height": 1000,
          "referenced_widgets": [
            "6400c0dea4d04c15abc01e610f32700f",
            "23f7c89e00a6402f8243efc6bd18c7bb",
            "1ec571184aea48109b88b2891cb5ee5c",
            "879702449978412b89ad3c3a566f9654",
            "98059debe4b048cc8a715e6def9c3cf8",
            "0d84b3779bc743b6abaf3c82f4563b52",
            "31919660ccc6423888bc01ab13d34222",
            "5615fc0d3a624281897c5ccbed779b32",
            "8034d51045c34de68264768356aa7261",
            "05d669fcd9134fd78150837fa58fc578",
            "c9b6bc5f698d457db815f62127df72a6"
          ]
        },
        "id": "NLD0HuZLd3OP",
        "outputId": "0edd6576-9b4e-452a-8ff8-cabfbb2dd3c2"
      },
      "outputs": [
        {
          "name": "stdout",
          "output_type": "stream",
          "text": [
            "data distribution: \n",
            " train    682\n",
            "val      114\n",
            "test      57\n",
            "Name: split_status, dtype: int64\n",
            "data folder structure has been set up\n",
            "config path used for mmcls: src/mmclassification/configs/resnet50_butterfly.py\n"
          ]
        },
        {
          "name": "stderr",
          "output_type": "stream",
          "text": [
            "/content/gdrive/MyDrive/butterfly_project/butterfly/src/mmclassification/mmcls/utils/setup_env.py:33: UserWarning: Setting OMP_NUM_THREADS environment variable for each process to be 1 in default, to avoid your system being overloaded, please further tune the variable for optimal performance in your application as needed.\n",
            "  f'Setting OMP_NUM_THREADS environment variable for each process '\n",
            "/content/gdrive/MyDrive/butterfly_project/butterfly/src/mmclassification/mmcls/utils/setup_env.py:43: UserWarning: Setting MKL_NUM_THREADS environment variable for each process to be 1 in default, to avoid your system being overloaded, please further tune the variable for optimal performance in your application as needed.\n",
            "  f'Setting MKL_NUM_THREADS environment variable for each process '\n",
            "2022-10-02 16:39:53,614 - mmcls - INFO - Environment info:\n",
            "------------------------------------------------------------\n",
            "sys.platform: linux\n",
            "Python: 3.7.14 (default, Sep  8 2022, 00:06:44) [GCC 7.5.0]\n",
            "CUDA available: True\n",
            "GPU 0: Tesla T4\n",
            "CUDA_HOME: /usr/local/cuda\n",
            "NVCC: Cuda compilation tools, release 11.1, V11.1.105\n",
            "GCC: x86_64-linux-gnu-gcc (Ubuntu 7.5.0-3ubuntu1~18.04) 7.5.0\n",
            "PyTorch: 1.12.1+cu113\n",
            "PyTorch compiling details: PyTorch built with:\n",
            "  - GCC 9.3\n",
            "  - C++ Version: 201402\n",
            "  - Intel(R) Math Kernel Library Version 2020.0.0 Product Build 20191122 for Intel(R) 64 architecture applications\n",
            "  - Intel(R) MKL-DNN v2.6.0 (Git Hash 52b5f107dd9cf10910aaa19cb47f3abf9b349815)\n",
            "  - OpenMP 201511 (a.k.a. OpenMP 4.5)\n",
            "  - LAPACK is enabled (usually provided by MKL)\n",
            "  - NNPACK is enabled\n",
            "  - CPU capability usage: AVX2\n",
            "  - CUDA Runtime 11.3\n",
            "  - NVCC architecture flags: -gencode;arch=compute_37,code=sm_37;-gencode;arch=compute_50,code=sm_50;-gencode;arch=compute_60,code=sm_60;-gencode;arch=compute_70,code=sm_70;-gencode;arch=compute_75,code=sm_75;-gencode;arch=compute_80,code=sm_80;-gencode;arch=compute_86,code=sm_86\n",
            "  - CuDNN 8.3.2  (built against CUDA 11.5)\n",
            "  - Magma 2.5.2\n",
            "  - Build settings: BLAS_INFO=mkl, BUILD_TYPE=Release, CUDA_VERSION=11.3, CUDNN_VERSION=8.3.2, CXX_COMPILER=/opt/rh/devtoolset-9/root/usr/bin/c++, CXX_FLAGS= -fabi-version=11 -Wno-deprecated -fvisibility-inlines-hidden -DUSE_PTHREADPOOL -fopenmp -DNDEBUG -DUSE_KINETO -DUSE_FBGEMM -DUSE_QNNPACK -DUSE_PYTORCH_QNNPACK -DUSE_XNNPACK -DSYMBOLICATE_MOBILE_DEBUG_HANDLE -DEDGE_PROFILER_USE_KINETO -O2 -fPIC -Wno-narrowing -Wall -Wextra -Werror=return-type -Wno-missing-field-initializers -Wno-type-limits -Wno-array-bounds -Wno-unknown-pragmas -Wno-unused-parameter -Wno-unused-function -Wno-unused-result -Wno-unused-local-typedefs -Wno-strict-overflow -Wno-strict-aliasing -Wno-error=deprecated-declarations -Wno-stringop-overflow -Wno-psabi -Wno-error=pedantic -Wno-error=redundant-decls -Wno-error=old-style-cast -fdiagnostics-color=always -faligned-new -Wno-unused-but-set-variable -Wno-maybe-uninitialized -fno-math-errno -fno-trapping-math -Werror=format -Werror=cast-function-type -Wno-stringop-overflow, LAPACK_INFO=mkl, PERF_WITH_AVX=1, PERF_WITH_AVX2=1, PERF_WITH_AVX512=1, TORCH_VERSION=1.12.1, USE_CUDA=ON, USE_CUDNN=ON, USE_EXCEPTION_PTR=1, USE_GFLAGS=OFF, USE_GLOG=OFF, USE_MKL=ON, USE_MKLDNN=OFF, USE_MPI=OFF, USE_NCCL=ON, USE_NNPACK=ON, USE_OPENMP=ON, USE_ROCM=OFF, \n",
            "\n",
            "TorchVision: 0.13.1+cu113\n",
            "OpenCV: 4.6.0\n",
            "MMCV: 1.6.2\n",
            "MMCV Compiler: GCC 9.3\n",
            "MMCV CUDA Compiler: 11.3\n",
            "MMClassification: 0.23.2+5e8f36f\n",
            "------------------------------------------------------------\n",
            "\n",
            "2022-10-02 16:39:53,621 - mmcls - INFO - Distributed training: False\n",
            "2022-10-02 16:39:54,944 - mmcls - INFO - Config:\n",
            "model = dict(\n",
            "    type='ImageClassifier',\n",
            "    backbone=dict(\n",
            "        type='ResNet',\n",
            "        depth=50,\n",
            "        num_stages=4,\n",
            "        out_indices=(3, ),\n",
            "        style='pytorch',\n",
            "        frozen_stages=2,\n",
            "        init_cfg=dict(\n",
            "            type='Pretrained',\n",
            "            checkpoint=\n",
            "            'https://download.openmmlab.com/mmclassification/v0/resnet/resnet50_8xb32_in1k_20210831-ea4938fc.pth',\n",
            "            prefix='backbone')),\n",
            "    neck=dict(type='GlobalAveragePooling'),\n",
            "    head=dict(\n",
            "        type='LinearClsHead',\n",
            "        num_classes=6,\n",
            "        in_channels=2048,\n",
            "        loss=dict(type='CrossEntropyLoss', loss_weight=1.0),\n",
            "        topk=(1, 5)))\n",
            "dataset_type = 'CustomDataset'\n",
            "classes = ['monarch', 'tiger', 'black', 'pipevine', 'viceroy', 'spicebush']\n",
            "img_norm_cfg = dict(\n",
            "    mean=[0.485, 0.456, 0.406], std=[0.229, 0.224, 0.225], to_rgb=False)\n",
            "train_pipeline = [\n",
            "    dict(type='LoadImageFromFile'),\n",
            "    dict(type='RandomResizedCrop', size=224),\n",
            "    dict(type='Resize', size=224),\n",
            "    dict(type='RandomFlip', flip_prob=0.5, direction='horizontal'),\n",
            "    dict(\n",
            "        type='Normalize',\n",
            "        mean=[0.485, 0.456, 0.406],\n",
            "        std=[0.229, 0.224, 0.225],\n",
            "        to_rgb=False),\n",
            "    dict(type='ImageToTensor', keys=['img']),\n",
            "    dict(type='ToTensor', keys=['gt_label']),\n",
            "    dict(type='Collect', keys=['img', 'gt_label'])\n",
            "]\n",
            "test_pipeline = [\n",
            "    dict(type='LoadImageFromFile'),\n",
            "    dict(type='Resize', size=224),\n",
            "    dict(\n",
            "        type='Normalize',\n",
            "        mean=[0.485, 0.456, 0.406],\n",
            "        std=[0.229, 0.224, 0.225],\n",
            "        to_rgb=False),\n",
            "    dict(type='ImageToTensor', keys=['img']),\n",
            "    dict(type='Collect', keys=['img'])\n",
            "]\n",
            "data = dict(\n",
            "    samples_per_gpu=128,\n",
            "    workers_per_gpu=2,\n",
            "    train=dict(\n",
            "        type='CustomDataset',\n",
            "        data_prefix='data/processed_data/train',\n",
            "        classes=[\n",
            "            'monarch', 'tiger', 'black', 'pipevine', 'viceroy', 'spicebush'\n",
            "        ],\n",
            "        pipeline=[\n",
            "            dict(type='LoadImageFromFile'),\n",
            "            dict(type='RandomResizedCrop', size=224),\n",
            "            dict(type='Resize', size=224),\n",
            "            dict(type='RandomFlip', flip_prob=0.5, direction='horizontal'),\n",
            "            dict(\n",
            "                type='Normalize',\n",
            "                mean=[0.485, 0.456, 0.406],\n",
            "                std=[0.229, 0.224, 0.225],\n",
            "                to_rgb=False),\n",
            "            dict(type='ImageToTensor', keys=['img']),\n",
            "            dict(type='ToTensor', keys=['gt_label']),\n",
            "            dict(type='Collect', keys=['img', 'gt_label'])\n",
            "        ]),\n",
            "    val=dict(\n",
            "        type='CustomDataset',\n",
            "        data_prefix='data/processed_data/val',\n",
            "        classes=[\n",
            "            'monarch', 'tiger', 'black', 'pipevine', 'viceroy', 'spicebush'\n",
            "        ],\n",
            "        pipeline=[\n",
            "            dict(type='LoadImageFromFile'),\n",
            "            dict(type='Resize', size=224),\n",
            "            dict(\n",
            "                type='Normalize',\n",
            "                mean=[0.485, 0.456, 0.406],\n",
            "                std=[0.229, 0.224, 0.225],\n",
            "                to_rgb=False),\n",
            "            dict(type='ImageToTensor', keys=['img']),\n",
            "            dict(type='Collect', keys=['img'])\n",
            "        ]),\n",
            "    test=dict(\n",
            "        type='CustomDataset',\n",
            "        data_prefix='data/processed_data/holdout',\n",
            "        classes=[\n",
            "            'monarch', 'tiger', 'black', 'pipevine', 'viceroy', 'spicebush'\n",
            "        ],\n",
            "        pipeline=[\n",
            "            dict(type='LoadImageFromFile'),\n",
            "            dict(type='Resize', size=224),\n",
            "            dict(\n",
            "                type='Normalize',\n",
            "                mean=[0.485, 0.456, 0.406],\n",
            "                std=[0.229, 0.224, 0.225],\n",
            "                to_rgb=False),\n",
            "            dict(type='ImageToTensor', keys=['img']),\n",
            "            dict(type='Collect', keys=['img'])\n",
            "        ]))\n",
            "evaluation = dict(interval=10, metric='accuracy')\n",
            "checkpoint_config = dict(interval=10)\n",
            "log_config = dict(interval=100, hooks=[dict(type='TextLoggerHook')])\n",
            "dist_params = dict(backend='nccl')\n",
            "log_level = 'INFO'\n",
            "load_from = None\n",
            "resume_from = None\n",
            "workflow = [('train', 1)]\n",
            "optimizer = dict(type='SGD', lr=0.01, momentum=0.9, weight_decay=0.0001)\n",
            "optimizer_config = dict(grad_clip=None)\n",
            "lr_config = dict(policy='step', step=[15])\n",
            "runner = dict(type='EpochBasedRunner', max_epochs=200)\n",
            "work_dir = './work_dirs/resnet50_butterfly'\n",
            "gpu_ids = [0]\n",
            "\n",
            "2022-10-02 16:39:54,949 - mmcls - INFO - Set random seed to 1236298865, deterministic: False\n",
            "2022-10-02 16:39:55,282 - mmcls - INFO - initialize ResNet with init_cfg {'type': 'Pretrained', 'checkpoint': 'https://download.openmmlab.com/mmclassification/v0/resnet/resnet50_8xb32_in1k_20210831-ea4938fc.pth', 'prefix': 'backbone'}\n",
            "2022-10-02 16:39:55,288 - mmcv - INFO - load backbone in model from: https://download.openmmlab.com/mmclassification/v0/resnet/resnet50_8xb32_in1k_20210831-ea4938fc.pth\n",
            "Downloading: \"https://download.openmmlab.com/mmclassification/v0/resnet/resnet50_8xb32_in1k_20210831-ea4938fc.pth\" to /root/.cache/torch/hub/checkpoints/resnet50_8xb32_in1k_20210831-ea4938fc.pth\n"
          ]
        },
        {
          "name": "stdout",
          "output_type": "stream",
          "text": [
            "load checkpoint from http path: https://download.openmmlab.com/mmclassification/v0/resnet/resnet50_8xb32_in1k_20210831-ea4938fc.pth\n"
          ]
        },
        {
          "data": {
            "application/vnd.jupyter.widget-view+json": {
              "model_id": "6400c0dea4d04c15abc01e610f32700f",
              "version_major": 2,
              "version_minor": 0
            },
            "text/plain": [
              "  0%|          | 0.00/97.8M [00:00<?, ?B/s]"
            ]
          },
          "metadata": {},
          "output_type": "display_data"
        },
        {
          "name": "stderr",
          "output_type": "stream",
          "text": [
            "2022-10-02 16:40:03,948 - mmcls - INFO - initialize LinearClsHead with init_cfg {'type': 'Normal', 'layer': 'Linear', 'std': 0.01}\n",
            "2022-10-02 16:40:09,498 - mmcls - INFO - Start running, host: root@8ec29f2738b2, work_dir: /content/gdrive/MyDrive/butterfly_project/butterfly/work_dirs/resnet50_butterfly\n",
            "2022-10-02 16:40:09,500 - mmcls - INFO - Hooks will be executed in the following order:\n",
            "before_run:\n",
            "(VERY_HIGH   ) StepLrUpdaterHook                  \n",
            "(NORMAL      ) CheckpointHook                     \n",
            "(LOW         ) EvalHook                           \n",
            "(VERY_LOW    ) TextLoggerHook                     \n",
            " -------------------- \n",
            "before_train_epoch:\n",
            "(VERY_HIGH   ) StepLrUpdaterHook                  \n",
            "(LOW         ) IterTimerHook                      \n",
            "(LOW         ) EvalHook                           \n",
            "(VERY_LOW    ) TextLoggerHook                     \n",
            " -------------------- \n",
            "before_train_iter:\n",
            "(VERY_HIGH   ) StepLrUpdaterHook                  \n",
            "(LOW         ) IterTimerHook                      \n",
            "(LOW         ) EvalHook                           \n",
            " -------------------- \n",
            "after_train_iter:\n",
            "(ABOVE_NORMAL) OptimizerHook                      \n",
            "(NORMAL      ) CheckpointHook                     \n",
            "(LOW         ) IterTimerHook                      \n",
            "(LOW         ) EvalHook                           \n",
            "(VERY_LOW    ) TextLoggerHook                     \n",
            " -------------------- \n",
            "after_train_epoch:\n",
            "(NORMAL      ) CheckpointHook                     \n",
            "(LOW         ) EvalHook                           \n",
            "(VERY_LOW    ) TextLoggerHook                     \n",
            " -------------------- \n",
            "before_val_epoch:\n",
            "(LOW         ) IterTimerHook                      \n",
            "(VERY_LOW    ) TextLoggerHook                     \n",
            " -------------------- \n",
            "before_val_iter:\n",
            "(LOW         ) IterTimerHook                      \n",
            " -------------------- \n",
            "after_val_iter:\n",
            "(LOW         ) IterTimerHook                      \n",
            " -------------------- \n",
            "after_val_epoch:\n",
            "(VERY_LOW    ) TextLoggerHook                     \n",
            " -------------------- \n",
            "after_run:\n",
            "(VERY_LOW    ) TextLoggerHook                     \n",
            " -------------------- \n",
            "2022-10-02 16:40:09,504 - mmcls - INFO - workflow: [('train', 1)], max: 200 epochs\n",
            "2022-10-02 16:40:09,508 - mmcls - INFO - Checkpoints will be saved to /content/gdrive/MyDrive/butterfly_project/butterfly/work_dirs/resnet50_butterfly by HardDiskBackend.\n",
            "2022-10-02 16:41:18,909 - mmcls - INFO - Saving checkpoint at 10 epochs\n"
          ]
        },
        {
          "name": "stdout",
          "output_type": "stream",
          "text": [
            "[>>>>>>>>>>>>>>>>>>>>>>>>>>>>>] 114/114, 114.6 task/s, elapsed: 1s, ETA:     0s"
          ]
        },
        {
          "name": "stderr",
          "output_type": "stream",
          "text": [
            "2022-10-02 16:41:21,066 - mmcls - INFO - Epoch(val) [10][1]\taccuracy_top-1: 30.7018, accuracy_top-5: 96.4912\n",
            "2022-10-02 16:42:23,149 - mmcls - INFO - Saving checkpoint at 20 epochs\n"
          ]
        },
        {
          "name": "stdout",
          "output_type": "stream",
          "text": [
            "[>>>>>>>>>>>>>>>>>>>>>>>>>>>>>] 114/114, 137.6 task/s, elapsed: 1s, ETA:     0s"
          ]
        },
        {
          "name": "stderr",
          "output_type": "stream",
          "text": [
            "2022-10-02 16:42:25,266 - mmcls - INFO - Epoch(val) [20][1]\taccuracy_top-1: 74.5614, accuracy_top-5: 100.0000\n",
            "2022-10-02 16:43:28,418 - mmcls - INFO - Saving checkpoint at 30 epochs\n"
          ]
        },
        {
          "name": "stdout",
          "output_type": "stream",
          "text": [
            "[>>>>>>>>>>>>>>>>>>>>>>>>>>>>>] 114/114, 136.1 task/s, elapsed: 1s, ETA:     0s"
          ]
        },
        {
          "name": "stderr",
          "output_type": "stream",
          "text": [
            "2022-10-02 16:43:30,325 - mmcls - INFO - Epoch(val) [30][1]\taccuracy_top-1: 75.4386, accuracy_top-5: 100.0000\n",
            "2022-10-02 16:44:33,287 - mmcls - INFO - Saving checkpoint at 40 epochs\n"
          ]
        },
        {
          "name": "stdout",
          "output_type": "stream",
          "text": [
            "[>>>>>>>>>>>>>>>>>>>>>>>>>>>>>] 114/114, 138.8 task/s, elapsed: 1s, ETA:     0s"
          ]
        },
        {
          "name": "stderr",
          "output_type": "stream",
          "text": [
            "2022-10-02 16:44:35,514 - mmcls - INFO - Epoch(val) [40][1]\taccuracy_top-1: 74.5614, accuracy_top-5: 100.0000\n",
            "2022-10-02 16:45:38,397 - mmcls - INFO - Saving checkpoint at 50 epochs\n"
          ]
        },
        {
          "name": "stdout",
          "output_type": "stream",
          "text": [
            "[>>>>>>>>>>>>>>>>>>>>>>>>>>>>>] 114/114, 136.9 task/s, elapsed: 1s, ETA:     0s"
          ]
        },
        {
          "name": "stderr",
          "output_type": "stream",
          "text": [
            "2022-10-02 16:45:40,271 - mmcls - INFO - Epoch(val) [50][1]\taccuracy_top-1: 78.9474, accuracy_top-5: 100.0000\n",
            "2022-10-02 16:46:43,025 - mmcls - INFO - Saving checkpoint at 60 epochs\n"
          ]
        },
        {
          "name": "stdout",
          "output_type": "stream",
          "text": [
            "[>>>>>>>>>>>>>>>>>>>>>>>>>>>>>] 114/114, 133.9 task/s, elapsed: 1s, ETA:     0s"
          ]
        },
        {
          "name": "stderr",
          "output_type": "stream",
          "text": [
            "2022-10-02 16:46:44,936 - mmcls - INFO - Epoch(val) [60][1]\taccuracy_top-1: 75.4386, accuracy_top-5: 100.0000\n",
            "2022-10-02 16:47:47,640 - mmcls - INFO - Saving checkpoint at 70 epochs\n"
          ]
        },
        {
          "name": "stdout",
          "output_type": "stream",
          "text": [
            "[>>>>>>>>>>>>>>>>>>>>>>>>>>>>>] 114/114, 131.6 task/s, elapsed: 1s, ETA:     0s"
          ]
        },
        {
          "name": "stderr",
          "output_type": "stream",
          "text": [
            "2022-10-02 16:47:49,549 - mmcls - INFO - Epoch(val) [70][1]\taccuracy_top-1: 78.0702, accuracy_top-5: 100.0000\n",
            "2022-10-02 16:48:52,439 - mmcls - INFO - Saving checkpoint at 80 epochs\n"
          ]
        },
        {
          "name": "stdout",
          "output_type": "stream",
          "text": [
            "[>>>>>>>>>>>>>>>>>>>>>>>>>>>>>] 114/114, 131.0 task/s, elapsed: 1s, ETA:     0s"
          ]
        },
        {
          "name": "stderr",
          "output_type": "stream",
          "text": [
            "2022-10-02 16:48:54,395 - mmcls - INFO - Epoch(val) [80][1]\taccuracy_top-1: 78.0702, accuracy_top-5: 100.0000\n",
            "2022-10-02 16:49:59,079 - mmcls - INFO - Saving checkpoint at 90 epochs\n"
          ]
        },
        {
          "name": "stdout",
          "output_type": "stream",
          "text": [
            "[>>>>>>>>>>>>>>>>>>>>>>>>>>>>>] 114/114, 127.1 task/s, elapsed: 1s, ETA:     0s"
          ]
        },
        {
          "name": "stderr",
          "output_type": "stream",
          "text": [
            "2022-10-02 16:50:01,059 - mmcls - INFO - Epoch(val) [90][1]\taccuracy_top-1: 80.7018, accuracy_top-5: 100.0000\n",
            "2022-10-02 16:51:05,694 - mmcls - INFO - Saving checkpoint at 100 epochs\n"
          ]
        },
        {
          "name": "stdout",
          "output_type": "stream",
          "text": [
            "[>>>>>>>>>>>>>>>>>>>>>>>>>>>>>] 114/114, 127.3 task/s, elapsed: 1s, ETA:     0s"
          ]
        },
        {
          "name": "stderr",
          "output_type": "stream",
          "text": [
            "2022-10-02 16:51:07,621 - mmcls - INFO - Epoch(val) [100][1]\taccuracy_top-1: 73.6842, accuracy_top-5: 99.1228\n",
            "2022-10-02 16:52:12,649 - mmcls - INFO - Saving checkpoint at 110 epochs\n"
          ]
        },
        {
          "name": "stdout",
          "output_type": "stream",
          "text": [
            "[>>>>>>>>>>>>>>>>>>>>>>>>>>>>>] 114/114, 127.1 task/s, elapsed: 1s, ETA:     0s"
          ]
        },
        {
          "name": "stderr",
          "output_type": "stream",
          "text": [
            "2022-10-02 16:52:14,583 - mmcls - INFO - Epoch(val) [110][1]\taccuracy_top-1: 77.1930, accuracy_top-5: 100.0000\n",
            "2022-10-02 16:53:18,325 - mmcls - INFO - Saving checkpoint at 120 epochs\n"
          ]
        },
        {
          "name": "stdout",
          "output_type": "stream",
          "text": [
            "[>>>>>>>>>>>>>>>>>>>>>>>>>>>>>] 114/114, 129.5 task/s, elapsed: 1s, ETA:     0s"
          ]
        },
        {
          "name": "stderr",
          "output_type": "stream",
          "text": [
            "2022-10-02 16:53:20,234 - mmcls - INFO - Epoch(val) [120][1]\taccuracy_top-1: 80.7018, accuracy_top-5: 99.1228\n",
            "2022-10-02 16:54:23,398 - mmcls - INFO - Saving checkpoint at 130 epochs\n"
          ]
        },
        {
          "name": "stdout",
          "output_type": "stream",
          "text": [
            "[>>>>>>>>>>>>>>>>>>>>>>>>>>>>>] 114/114, 125.9 task/s, elapsed: 1s, ETA:     0s"
          ]
        },
        {
          "name": "stderr",
          "output_type": "stream",
          "text": [
            "2022-10-02 16:54:25,844 - mmcls - INFO - Epoch(val) [130][1]\taccuracy_top-1: 78.9474, accuracy_top-5: 99.1228\n",
            "2022-10-02 16:55:28,885 - mmcls - INFO - Saving checkpoint at 140 epochs\n"
          ]
        },
        {
          "name": "stdout",
          "output_type": "stream",
          "text": [
            "[>>>>>>>>>>>>>>>>>>>>>>>>>>>>>] 114/114, 133.5 task/s, elapsed: 1s, ETA:     0s"
          ]
        },
        {
          "name": "stderr",
          "output_type": "stream",
          "text": [
            "2022-10-02 16:55:30,803 - mmcls - INFO - Epoch(val) [140][1]\taccuracy_top-1: 78.0702, accuracy_top-5: 100.0000\n",
            "2022-10-02 16:56:35,367 - mmcls - INFO - Saving checkpoint at 150 epochs\n"
          ]
        },
        {
          "name": "stdout",
          "output_type": "stream",
          "text": [
            "[>>>>>>>>>>>>>>>>>>>>>>>>>>>>>] 114/114, 135.9 task/s, elapsed: 1s, ETA:     0s"
          ]
        },
        {
          "name": "stderr",
          "output_type": "stream",
          "text": [
            "2022-10-02 16:56:37,282 - mmcls - INFO - Epoch(val) [150][1]\taccuracy_top-1: 78.0702, accuracy_top-5: 100.0000\n",
            "2022-10-02 16:57:41,880 - mmcls - INFO - Saving checkpoint at 160 epochs\n"
          ]
        },
        {
          "name": "stdout",
          "output_type": "stream",
          "text": [
            "[>>>>>>>>>>>>>>>>>>>>>>>>>>>>>] 114/114, 133.5 task/s, elapsed: 1s, ETA:     0s"
          ]
        },
        {
          "name": "stderr",
          "output_type": "stream",
          "text": [
            "2022-10-02 16:57:43,762 - mmcls - INFO - Epoch(val) [160][1]\taccuracy_top-1: 78.0702, accuracy_top-5: 99.1228\n",
            "2022-10-02 16:58:48,515 - mmcls - INFO - Saving checkpoint at 170 epochs\n"
          ]
        },
        {
          "name": "stdout",
          "output_type": "stream",
          "text": [
            "[>>>>>>>>>>>>>>>>>>>>>>>>>>>>>] 114/114, 136.8 task/s, elapsed: 1s, ETA:     0s"
          ]
        },
        {
          "name": "stderr",
          "output_type": "stream",
          "text": [
            "2022-10-02 16:58:50,583 - mmcls - INFO - Epoch(val) [170][1]\taccuracy_top-1: 81.5789, accuracy_top-5: 99.1228\n",
            "2022-10-02 16:59:56,178 - mmcls - INFO - Saving checkpoint at 180 epochs\n"
          ]
        },
        {
          "name": "stdout",
          "output_type": "stream",
          "text": [
            "[>>>>>>>>>>>>>>>>>>>>>>>>>>>>>] 114/114, 131.1 task/s, elapsed: 1s, ETA:     0s"
          ]
        },
        {
          "name": "stderr",
          "output_type": "stream",
          "text": [
            "2022-10-02 16:59:59,978 - mmcls - INFO - Epoch(val) [180][1]\taccuracy_top-1: 79.8246, accuracy_top-5: 99.1228\n",
            "2022-10-02 17:01:04,590 - mmcls - INFO - Saving checkpoint at 190 epochs\n"
          ]
        },
        {
          "name": "stdout",
          "output_type": "stream",
          "text": [
            "[>>>>>>>>>>>>>>>>>>>>>>>>>>>>>] 114/114, 123.8 task/s, elapsed: 1s, ETA:     0s"
          ]
        },
        {
          "name": "stderr",
          "output_type": "stream",
          "text": [
            "2022-10-02 17:01:08,773 - mmcls - INFO - Epoch(val) [190][1]\taccuracy_top-1: 81.5789, accuracy_top-5: 99.1228\n",
            "2022-10-02 17:02:14,122 - mmcls - INFO - Saving checkpoint at 200 epochs\n"
          ]
        },
        {
          "name": "stdout",
          "output_type": "stream",
          "text": [
            "[>>>>>>>>>>>>>>>>>>>>>>>>>>>>>] 114/114, 114.3 task/s, elapsed: 1s, ETA:     0s"
          ]
        },
        {
          "name": "stderr",
          "output_type": "stream",
          "text": [
            "2022-10-02 17:02:18,013 - mmcls - INFO - Epoch(val) [200][1]\taccuracy_top-1: 81.5789, accuracy_top-5: 98.2456\n"
          ]
        }
      ],
      "source": [
        "train_model(type = \"mmcls\", \n",
        "            mmcls_config_path = \"src/mmclassification/configs/resnet50_butterfly.py\", \n",
        "            data_path = \"data/butterfly_mimics\")"
      ]
    },
    {
      "cell_type": "code",
      "execution_count": null,
      "metadata": {
        "colab": {
          "base_uri": "https://localhost:8080/"
        },
        "id": "hb1_lozdd2-T",
        "outputId": "9aa01564-70dc-469d-ef79-1e71877c0869"
      },
      "outputs": [
        {
          "name": "stderr",
          "output_type": "stream",
          "text": [
            "/content/gdrive/MyDrive/butterfly_project/butterfly/src/mmclassification/mmcls/utils/setup_env.py:33: UserWarning: Setting OMP_NUM_THREADS environment variable for each process to be 1 in default, to avoid your system being overloaded, please further tune the variable for optimal performance in your application as needed.\n",
            "  f'Setting OMP_NUM_THREADS environment variable for each process '\n",
            "/content/gdrive/MyDrive/butterfly_project/butterfly/src/mmclassification/mmcls/utils/setup_env.py:43: UserWarning: Setting MKL_NUM_THREADS environment variable for each process to be 1 in default, to avoid your system being overloaded, please further tune the variable for optimal performance in your application as needed.\n",
            "  f'Setting MKL_NUM_THREADS environment variable for each process '\n"
          ]
        },
        {
          "name": "stdout",
          "output_type": "stream",
          "text": [
            "load checkpoint from local path: work_dirs/resnet50_butterfly/latest.pth\n",
            "[>>>>>>>>>>>>>>>>>>>>>>>>>>>>>>] 114/114, 23.1 task/s, elapsed: 5s, ETA:     0s\n",
            "accuracy_top-1 : 81.58\n",
            "\n",
            "accuracy_top-5 : 98.25\n",
            "\n",
            "dumping results to predictions.json\n"
          ]
        }
      ],
      "source": [
        "test_model(mmcls_config_path = \"src/mmclassification/configs/resnet50_butterfly.py\", \n",
        "            checkpoint = \"work_dirs/resnet50_butterfly/epoch_170.pth\")"
      ]
    },
    {
      "cell_type": "markdown",
      "metadata": {
        "id": "VErgo6kYt0iH"
      },
      "source": [
        "## ViT"
      ]
    },
    {
      "cell_type": "code",
      "execution_count": 2,
      "metadata": {
        "colab": {
          "base_uri": "https://localhost:8080/"
        },
        "id": "-YgdJLxpt3GN",
        "outputId": "df6a74b7-bbb3-4e43-dd73-c826260899bf"
      },
      "outputs": [
        {
          "output_type": "stream",
          "name": "stdout",
          "text": [
            "data distribution: \n",
            " train    682\n",
            "val      114\n",
            "test      57\n",
            "Name: split_status, dtype: int64\n",
            "data folder structure has been set up\n",
            "config path used for mmcls: src/mmclassification/configs/vit_butterfly.py\n"
          ]
        },
        {
          "output_type": "stream",
          "name": "stderr",
          "text": [
            "/content/gdrive/MyDrive/butterfly_project/butterfly/src/mmclassification/mmcls/utils/setup_env.py:33: UserWarning: Setting OMP_NUM_THREADS environment variable for each process to be 1 in default, to avoid your system being overloaded, please further tune the variable for optimal performance in your application as needed.\n",
            "  f'Setting OMP_NUM_THREADS environment variable for each process '\n",
            "/content/gdrive/MyDrive/butterfly_project/butterfly/src/mmclassification/mmcls/utils/setup_env.py:43: UserWarning: Setting MKL_NUM_THREADS environment variable for each process to be 1 in default, to avoid your system being overloaded, please further tune the variable for optimal performance in your application as needed.\n",
            "  f'Setting MKL_NUM_THREADS environment variable for each process '\n",
            "2022-10-03 14:41:59,770 - mmcls - INFO - Environment info:\n",
            "------------------------------------------------------------\n",
            "sys.platform: linux\n",
            "Python: 3.7.14 (default, Sep  8 2022, 00:06:44) [GCC 7.5.0]\n",
            "CUDA available: True\n",
            "GPU 0: Tesla T4\n",
            "CUDA_HOME: /usr/local/cuda\n",
            "NVCC: Cuda compilation tools, release 11.1, V11.1.105\n",
            "GCC: x86_64-linux-gnu-gcc (Ubuntu 7.5.0-3ubuntu1~18.04) 7.5.0\n",
            "PyTorch: 1.12.1+cu113\n",
            "PyTorch compiling details: PyTorch built with:\n",
            "  - GCC 9.3\n",
            "  - C++ Version: 201402\n",
            "  - Intel(R) Math Kernel Library Version 2020.0.0 Product Build 20191122 for Intel(R) 64 architecture applications\n",
            "  - Intel(R) MKL-DNN v2.6.0 (Git Hash 52b5f107dd9cf10910aaa19cb47f3abf9b349815)\n",
            "  - OpenMP 201511 (a.k.a. OpenMP 4.5)\n",
            "  - LAPACK is enabled (usually provided by MKL)\n",
            "  - NNPACK is enabled\n",
            "  - CPU capability usage: AVX2\n",
            "  - CUDA Runtime 11.3\n",
            "  - NVCC architecture flags: -gencode;arch=compute_37,code=sm_37;-gencode;arch=compute_50,code=sm_50;-gencode;arch=compute_60,code=sm_60;-gencode;arch=compute_70,code=sm_70;-gencode;arch=compute_75,code=sm_75;-gencode;arch=compute_80,code=sm_80;-gencode;arch=compute_86,code=sm_86\n",
            "  - CuDNN 8.3.2  (built against CUDA 11.5)\n",
            "  - Magma 2.5.2\n",
            "  - Build settings: BLAS_INFO=mkl, BUILD_TYPE=Release, CUDA_VERSION=11.3, CUDNN_VERSION=8.3.2, CXX_COMPILER=/opt/rh/devtoolset-9/root/usr/bin/c++, CXX_FLAGS= -fabi-version=11 -Wno-deprecated -fvisibility-inlines-hidden -DUSE_PTHREADPOOL -fopenmp -DNDEBUG -DUSE_KINETO -DUSE_FBGEMM -DUSE_QNNPACK -DUSE_PYTORCH_QNNPACK -DUSE_XNNPACK -DSYMBOLICATE_MOBILE_DEBUG_HANDLE -DEDGE_PROFILER_USE_KINETO -O2 -fPIC -Wno-narrowing -Wall -Wextra -Werror=return-type -Wno-missing-field-initializers -Wno-type-limits -Wno-array-bounds -Wno-unknown-pragmas -Wno-unused-parameter -Wno-unused-function -Wno-unused-result -Wno-unused-local-typedefs -Wno-strict-overflow -Wno-strict-aliasing -Wno-error=deprecated-declarations -Wno-stringop-overflow -Wno-psabi -Wno-error=pedantic -Wno-error=redundant-decls -Wno-error=old-style-cast -fdiagnostics-color=always -faligned-new -Wno-unused-but-set-variable -Wno-maybe-uninitialized -fno-math-errno -fno-trapping-math -Werror=format -Werror=cast-function-type -Wno-stringop-overflow, LAPACK_INFO=mkl, PERF_WITH_AVX=1, PERF_WITH_AVX2=1, PERF_WITH_AVX512=1, TORCH_VERSION=1.12.1, USE_CUDA=ON, USE_CUDNN=ON, USE_EXCEPTION_PTR=1, USE_GFLAGS=OFF, USE_GLOG=OFF, USE_MKL=ON, USE_MKLDNN=OFF, USE_MPI=OFF, USE_NCCL=ON, USE_NNPACK=ON, USE_OPENMP=ON, USE_ROCM=OFF, \n",
            "\n",
            "TorchVision: 0.13.1+cu113\n",
            "OpenCV: 4.6.0\n",
            "MMCV: 1.6.2\n",
            "MMCV Compiler: GCC 9.3\n",
            "MMCV CUDA Compiler: 11.3\n",
            "MMClassification: 0.23.2+8b5c4fa\n",
            "------------------------------------------------------------\n",
            "\n",
            "2022-10-03 14:41:59,782 - mmcls - INFO - Distributed training: False\n",
            "2022-10-03 14:41:59,918 - mmcls - INFO - Config:\n",
            "model = dict(\n",
            "    type='ImageClassifier',\n",
            "    backbone=dict(\n",
            "        type='VisionTransformer',\n",
            "        arch='l',\n",
            "        img_size=224,\n",
            "        patch_size=32,\n",
            "        drop_rate=0.1,\n",
            "        init_cfg=[\n",
            "            dict(\n",
            "                type='Kaiming',\n",
            "                layer='Conv2d',\n",
            "                mode='fan_in',\n",
            "                nonlinearity='linear')\n",
            "        ]),\n",
            "    neck=None,\n",
            "    head=dict(\n",
            "        type='VisionTransformerClsHead',\n",
            "        num_classes=6,\n",
            "        in_channels=1024,\n",
            "        loss=dict(type='CrossEntropyLoss', loss_weight=1.0),\n",
            "        topk=(1, 5)))\n",
            "dataset_type = 'CustomDataset'\n",
            "classes = ['monarch', 'tiger', 'black', 'pipevine', 'viceroy', 'spicebush']\n",
            "img_norm_cfg = dict(\n",
            "    mean=[0.485, 0.456, 0.406], std=[0.229, 0.224, 0.225], to_rgb=False)\n",
            "train_pipeline = [\n",
            "    dict(type='LoadImageFromFile'),\n",
            "    dict(type='RandomResizedCrop', size=224),\n",
            "    dict(type='Resize', size=224),\n",
            "    dict(type='RandomFlip', flip_prob=0.5, direction='horizontal'),\n",
            "    dict(\n",
            "        type='Normalize',\n",
            "        mean=[0.485, 0.456, 0.406],\n",
            "        std=[0.229, 0.224, 0.225],\n",
            "        to_rgb=False),\n",
            "    dict(type='ImageToTensor', keys=['img']),\n",
            "    dict(type='ToTensor', keys=['gt_label']),\n",
            "    dict(type='Collect', keys=['img', 'gt_label'])\n",
            "]\n",
            "test_pipeline = [\n",
            "    dict(type='LoadImageFromFile'),\n",
            "    dict(type='Resize', size=224),\n",
            "    dict(\n",
            "        type='Normalize',\n",
            "        mean=[0.485, 0.456, 0.406],\n",
            "        std=[0.229, 0.224, 0.225],\n",
            "        to_rgb=False),\n",
            "    dict(type='ImageToTensor', keys=['img']),\n",
            "    dict(type='Collect', keys=['img'])\n",
            "]\n",
            "data = dict(\n",
            "    samples_per_gpu=64,\n",
            "    workers_per_gpu=2,\n",
            "    train=dict(\n",
            "        type='CustomDataset',\n",
            "        data_prefix='data/processed_data/train',\n",
            "        classes=[\n",
            "            'monarch', 'tiger', 'black', 'pipevine', 'viceroy', 'spicebush'\n",
            "        ],\n",
            "        pipeline=[\n",
            "            dict(type='LoadImageFromFile'),\n",
            "            dict(type='RandomResizedCrop', size=224),\n",
            "            dict(type='Resize', size=224),\n",
            "            dict(type='RandomFlip', flip_prob=0.5, direction='horizontal'),\n",
            "            dict(\n",
            "                type='Normalize',\n",
            "                mean=[0.485, 0.456, 0.406],\n",
            "                std=[0.229, 0.224, 0.225],\n",
            "                to_rgb=False),\n",
            "            dict(type='ImageToTensor', keys=['img']),\n",
            "            dict(type='ToTensor', keys=['gt_label']),\n",
            "            dict(type='Collect', keys=['img', 'gt_label'])\n",
            "        ]),\n",
            "    val=dict(\n",
            "        type='CustomDataset',\n",
            "        data_prefix='data/processed_data/val',\n",
            "        classes=[\n",
            "            'monarch', 'tiger', 'black', 'pipevine', 'viceroy', 'spicebush'\n",
            "        ],\n",
            "        pipeline=[\n",
            "            dict(type='LoadImageFromFile'),\n",
            "            dict(type='Resize', size=224),\n",
            "            dict(\n",
            "                type='Normalize',\n",
            "                mean=[0.485, 0.456, 0.406],\n",
            "                std=[0.229, 0.224, 0.225],\n",
            "                to_rgb=False),\n",
            "            dict(type='ImageToTensor', keys=['img']),\n",
            "            dict(type='Collect', keys=['img'])\n",
            "        ]),\n",
            "    test=dict(\n",
            "        type='CustomDataset',\n",
            "        data_prefix='data/processed_data/val',\n",
            "        classes=[\n",
            "            'monarch', 'tiger', 'black', 'pipevine', 'viceroy', 'spicebush'\n",
            "        ],\n",
            "        pipeline=[\n",
            "            dict(type='LoadImageFromFile'),\n",
            "            dict(type='Resize', size=224),\n",
            "            dict(\n",
            "                type='Normalize',\n",
            "                mean=[0.485, 0.456, 0.406],\n",
            "                std=[0.229, 0.224, 0.225],\n",
            "                to_rgb=False),\n",
            "            dict(type='ImageToTensor', keys=['img']),\n",
            "            dict(type='Collect', keys=['img'])\n",
            "        ]))\n",
            "evaluation = dict(interval=10, metric='accuracy')\n",
            "checkpoint_config = dict(interval=10)\n",
            "log_config = dict(interval=100, hooks=[dict(type='TextLoggerHook')])\n",
            "dist_params = dict(backend='nccl')\n",
            "log_level = 'INFO'\n",
            "load_from = None\n",
            "resume_from = None\n",
            "workflow = [('train', 1)]\n",
            "optimizer = dict(type='SGD', lr=0.01, momentum=0.9, weight_decay=0.0001)\n",
            "optimizer_config = dict(grad_clip=None)\n",
            "lr_config = dict(policy='step', step=[15])\n",
            "runner = dict(type='EpochBasedRunner', max_epochs=200)\n",
            "work_dir = './work_dirs/vit_butterfly'\n",
            "gpu_ids = [0]\n",
            "\n",
            "2022-10-03 14:41:59,921 - mmcls - INFO - Set random seed to 1813663208, deterministic: False\n",
            "2022-10-03 14:42:02,444 - mmcls - INFO - initialize VisionTransformer with init_cfg [{'type': 'Kaiming', 'layer': 'Conv2d', 'mode': 'fan_in', 'nonlinearity': 'linear'}]\n",
            "2022-10-03 14:42:04,363 - mmcls - INFO - initialize VisionTransformerClsHead with init_cfg {'type': 'Constant', 'layer': 'Linear', 'val': 0}\n",
            "2022-10-03 14:42:08,961 - mmcls - INFO - Start running, host: root@bb94f8b6556b, work_dir: /content/gdrive/MyDrive/butterfly_project/butterfly/work_dirs/vit_butterfly\n",
            "2022-10-03 14:42:08,963 - mmcls - INFO - Hooks will be executed in the following order:\n",
            "before_run:\n",
            "(VERY_HIGH   ) StepLrUpdaterHook                  \n",
            "(NORMAL      ) CheckpointHook                     \n",
            "(LOW         ) EvalHook                           \n",
            "(VERY_LOW    ) TextLoggerHook                     \n",
            " -------------------- \n",
            "before_train_epoch:\n",
            "(VERY_HIGH   ) StepLrUpdaterHook                  \n",
            "(LOW         ) IterTimerHook                      \n",
            "(LOW         ) EvalHook                           \n",
            "(VERY_LOW    ) TextLoggerHook                     \n",
            " -------------------- \n",
            "before_train_iter:\n",
            "(VERY_HIGH   ) StepLrUpdaterHook                  \n",
            "(LOW         ) IterTimerHook                      \n",
            "(LOW         ) EvalHook                           \n",
            " -------------------- \n",
            "after_train_iter:\n",
            "(ABOVE_NORMAL) OptimizerHook                      \n",
            "(NORMAL      ) CheckpointHook                     \n",
            "(LOW         ) IterTimerHook                      \n",
            "(LOW         ) EvalHook                           \n",
            "(VERY_LOW    ) TextLoggerHook                     \n",
            " -------------------- \n",
            "after_train_epoch:\n",
            "(NORMAL      ) CheckpointHook                     \n",
            "(LOW         ) EvalHook                           \n",
            "(VERY_LOW    ) TextLoggerHook                     \n",
            " -------------------- \n",
            "before_val_epoch:\n",
            "(LOW         ) IterTimerHook                      \n",
            "(VERY_LOW    ) TextLoggerHook                     \n",
            " -------------------- \n",
            "before_val_iter:\n",
            "(LOW         ) IterTimerHook                      \n",
            " -------------------- \n",
            "after_val_iter:\n",
            "(LOW         ) IterTimerHook                      \n",
            " -------------------- \n",
            "after_val_epoch:\n",
            "(VERY_LOW    ) TextLoggerHook                     \n",
            " -------------------- \n",
            "after_run:\n",
            "(VERY_LOW    ) TextLoggerHook                     \n",
            " -------------------- \n",
            "2022-10-03 14:42:08,966 - mmcls - INFO - workflow: [('train', 1)], max: 200 epochs\n",
            "2022-10-03 14:42:08,973 - mmcls - INFO - Checkpoints will be saved to /content/gdrive/MyDrive/butterfly_project/butterfly/work_dirs/vit_butterfly by HardDiskBackend.\n",
            "2022-10-03 14:45:38,493 - mmcls - INFO - Saving checkpoint at 10 epochs\n"
          ]
        },
        {
          "output_type": "stream",
          "name": "stdout",
          "text": [
            "[>>>>>>>>>>>>>>>>>>>>>>>>>>>>>>] 114/114, 62.4 task/s, elapsed: 2s, ETA:     0s"
          ]
        },
        {
          "output_type": "stream",
          "name": "stderr",
          "text": [
            "2022-10-03 14:45:59,609 - mmcls - INFO - Epoch(val) [10][2]\taccuracy_top-1: 27.1930, accuracy_top-5: 92.1053\n",
            "2022-10-03 14:49:28,371 - mmcls - INFO - Saving checkpoint at 20 epochs\n"
          ]
        },
        {
          "output_type": "stream",
          "name": "stdout",
          "text": [
            "[>>>>>>>>>>>>>>>>>>>>>>>>>>>>>>] 114/114, 66.7 task/s, elapsed: 2s, ETA:     0s"
          ]
        },
        {
          "output_type": "stream",
          "name": "stderr",
          "text": [
            "2022-10-03 14:49:51,679 - mmcls - INFO - Epoch(val) [20][2]\taccuracy_top-1: 32.4561, accuracy_top-5: 92.9825\n",
            "2022-10-03 14:53:20,768 - mmcls - INFO - Saving checkpoint at 30 epochs\n"
          ]
        },
        {
          "output_type": "stream",
          "name": "stdout",
          "text": [
            "[>>>>>>>>>>>>>>>>>>>>>>>>>>>>>>] 114/114, 67.1 task/s, elapsed: 2s, ETA:     0s"
          ]
        },
        {
          "output_type": "stream",
          "name": "stderr",
          "text": [
            "2022-10-03 14:53:41,783 - mmcls - INFO - Epoch(val) [30][2]\taccuracy_top-1: 35.9649, accuracy_top-5: 94.7368\n",
            "2022-10-03 14:57:11,300 - mmcls - INFO - Saving checkpoint at 40 epochs\n"
          ]
        },
        {
          "output_type": "stream",
          "name": "stdout",
          "text": [
            "[>>>>>>>>>>>>>>>>>>>>>>>>>>>>>>] 114/114, 61.8 task/s, elapsed: 2s, ETA:     0s"
          ]
        },
        {
          "output_type": "stream",
          "name": "stderr",
          "text": [
            "2022-10-03 14:57:33,250 - mmcls - INFO - Epoch(val) [40][2]\taccuracy_top-1: 32.4561, accuracy_top-5: 94.7368\n",
            "2022-10-03 15:01:02,489 - mmcls - INFO - Saving checkpoint at 50 epochs\n"
          ]
        },
        {
          "output_type": "stream",
          "name": "stdout",
          "text": [
            "[>>>>>>>>>>>>>>>>>>>>>>>>>>>>>>] 114/114, 67.3 task/s, elapsed: 2s, ETA:     0s"
          ]
        },
        {
          "output_type": "stream",
          "name": "stderr",
          "text": [
            "2022-10-03 15:01:23,447 - mmcls - INFO - Epoch(val) [50][2]\taccuracy_top-1: 31.5789, accuracy_top-5: 94.7368\n",
            "2022-10-03 15:04:52,788 - mmcls - INFO - Saving checkpoint at 60 epochs\n"
          ]
        },
        {
          "output_type": "stream",
          "name": "stdout",
          "text": [
            "[>>>>>>>>>>>>>>>>>>>>>>>>>>>>>>] 114/114, 66.9 task/s, elapsed: 2s, ETA:     0s"
          ]
        },
        {
          "output_type": "stream",
          "name": "stderr",
          "text": [
            "2022-10-03 15:05:14,450 - mmcls - INFO - Epoch(val) [60][2]\taccuracy_top-1: 33.3333, accuracy_top-5: 96.4912\n",
            "2022-10-03 15:08:43,732 - mmcls - INFO - Saving checkpoint at 70 epochs\n"
          ]
        },
        {
          "output_type": "stream",
          "name": "stdout",
          "text": [
            "[>>>>>>>>>>>>>>>>>>>>>>>>>>>>>>] 114/114, 66.9 task/s, elapsed: 2s, ETA:     0s"
          ]
        },
        {
          "output_type": "stream",
          "name": "stderr",
          "text": [
            "2022-10-03 15:09:04,890 - mmcls - INFO - Epoch(val) [70][2]\taccuracy_top-1: 42.9825, accuracy_top-5: 95.6140\n",
            "2022-10-03 15:12:34,942 - mmcls - INFO - Saving checkpoint at 80 epochs\n"
          ]
        },
        {
          "output_type": "stream",
          "name": "stdout",
          "text": [
            "[>>>>>>>>>>>>>>>>>>>>>>>>>>>>>>] 114/114, 65.3 task/s, elapsed: 2s, ETA:     0s"
          ]
        },
        {
          "output_type": "stream",
          "name": "stderr",
          "text": [
            "2022-10-03 15:12:57,979 - mmcls - INFO - Epoch(val) [80][2]\taccuracy_top-1: 45.6140, accuracy_top-5: 96.4912\n",
            "2022-10-03 15:16:27,326 - mmcls - INFO - Saving checkpoint at 90 epochs\n"
          ]
        },
        {
          "output_type": "stream",
          "name": "stdout",
          "text": [
            "[>>>>>>>>>>>>>>>>>>>>>>>>>>>>>>] 114/114, 64.8 task/s, elapsed: 2s, ETA:     0s"
          ]
        },
        {
          "output_type": "stream",
          "name": "stderr",
          "text": [
            "2022-10-03 15:16:49,193 - mmcls - INFO - Epoch(val) [90][2]\taccuracy_top-1: 40.3509, accuracy_top-5: 97.3684\n",
            "2022-10-03 15:20:17,668 - mmcls - INFO - Saving checkpoint at 100 epochs\n"
          ]
        },
        {
          "output_type": "stream",
          "name": "stdout",
          "text": [
            "[>>>>>>>>>>>>>>>>>>>>>>>>>>>>>>] 114/114, 50.4 task/s, elapsed: 2s, ETA:     0s"
          ]
        },
        {
          "output_type": "stream",
          "name": "stderr",
          "text": [
            "2022-10-03 15:20:43,810 - mmcls - INFO - Epoch(val) [100][2]\taccuracy_top-1: 40.3509, accuracy_top-5: 97.3684\n",
            "2022-10-03 15:24:13,901 - mmcls - INFO - Saving checkpoint at 110 epochs\n"
          ]
        },
        {
          "output_type": "stream",
          "name": "stdout",
          "text": [
            "[>>>>>>>>>>>>>>>>>>>>>>>>>>>>>>] 114/114, 55.5 task/s, elapsed: 2s, ETA:     0s"
          ]
        },
        {
          "output_type": "stream",
          "name": "stderr",
          "text": [
            "2022-10-03 15:24:36,077 - mmcls - INFO - Epoch(val) [110][2]\taccuracy_top-1: 44.7368, accuracy_top-5: 96.4912\n",
            "2022-10-03 15:28:05,619 - mmcls - INFO - Saving checkpoint at 120 epochs\n"
          ]
        },
        {
          "output_type": "stream",
          "name": "stdout",
          "text": [
            "[>>>>>>>>>>>>>>>>>>>>>>>>>>>>>>] 114/114, 5.9 task/s, elapsed: 19s, ETA:     0s"
          ]
        },
        {
          "output_type": "stream",
          "name": "stderr",
          "text": [
            "2022-10-03 15:28:45,038 - mmcls - INFO - Epoch(val) [120][2]\taccuracy_top-1: 37.7193, accuracy_top-5: 94.7368\n",
            "2022-10-03 15:33:22,960 - mmcls - INFO - Saving checkpoint at 130 epochs\n"
          ]
        },
        {
          "output_type": "stream",
          "name": "stdout",
          "text": [
            "[>>>>>>>>>>>>>>>>>>>>>>>>>>>>>>] 114/114, 6.7 task/s, elapsed: 17s, ETA:     0s"
          ]
        },
        {
          "output_type": "stream",
          "name": "stderr",
          "text": [
            "2022-10-03 15:33:59,509 - mmcls - INFO - Epoch(val) [130][2]\taccuracy_top-1: 45.6140, accuracy_top-5: 96.4912\n",
            "2022-10-03 15:38:38,325 - mmcls - INFO - Saving checkpoint at 140 epochs\n"
          ]
        },
        {
          "output_type": "stream",
          "name": "stdout",
          "text": [
            "[>>>>>>>>>>>>>>>>>>>>>>>>>>>>>>] 114/114, 6.1 task/s, elapsed: 19s, ETA:     0s"
          ]
        },
        {
          "output_type": "stream",
          "name": "stderr",
          "text": [
            "2022-10-03 15:39:17,105 - mmcls - INFO - Epoch(val) [140][2]\taccuracy_top-1: 44.7368, accuracy_top-5: 97.3684\n",
            "2022-10-03 15:44:04,310 - mmcls - INFO - Saving checkpoint at 150 epochs\n"
          ]
        },
        {
          "output_type": "stream",
          "name": "stdout",
          "text": [
            "[>>>>>>>>>>>>>>>>>>>>>>>>>>>>>>] 114/114, 5.8 task/s, elapsed: 20s, ETA:     0s"
          ]
        },
        {
          "output_type": "stream",
          "name": "stderr",
          "text": [
            "2022-10-03 15:44:44,937 - mmcls - INFO - Epoch(val) [150][2]\taccuracy_top-1: 41.2281, accuracy_top-5: 97.3684\n",
            "2022-10-03 15:49:25,398 - mmcls - INFO - Saving checkpoint at 160 epochs\n"
          ]
        },
        {
          "output_type": "stream",
          "name": "stdout",
          "text": [
            "[>>>>>>>>>>>>>>>>>>>>>>>>>>>>>>] 114/114, 5.9 task/s, elapsed: 19s, ETA:     0s"
          ]
        },
        {
          "output_type": "stream",
          "name": "stderr",
          "text": [
            "2022-10-03 15:50:04,860 - mmcls - INFO - Epoch(val) [160][2]\taccuracy_top-1: 43.8596, accuracy_top-5: 100.0000\n",
            "2022-10-03 15:54:46,154 - mmcls - INFO - Saving checkpoint at 170 epochs\n"
          ]
        },
        {
          "output_type": "stream",
          "name": "stdout",
          "text": [
            "[>>>>>>>>>>>>>>>>>>>>>>>>>>>>>>] 114/114, 6.6 task/s, elapsed: 17s, ETA:     0s"
          ]
        },
        {
          "output_type": "stream",
          "name": "stderr",
          "text": [
            "2022-10-03 15:55:28,360 - mmcls - INFO - Epoch(val) [170][2]\taccuracy_top-1: 48.2456, accuracy_top-5: 96.4912\n",
            "2022-10-03 16:00:06,684 - mmcls - INFO - Saving checkpoint at 180 epochs\n"
          ]
        },
        {
          "output_type": "stream",
          "name": "stdout",
          "text": [
            "[>>>>>>>>>>>>>>>>>>>>>>>>>>>>>>] 114/114, 6.6 task/s, elapsed: 17s, ETA:     0s"
          ]
        },
        {
          "output_type": "stream",
          "name": "stderr",
          "text": [
            "2022-10-03 16:00:46,656 - mmcls - INFO - Epoch(val) [180][2]\taccuracy_top-1: 42.9825, accuracy_top-5: 96.4912\n",
            "2022-10-03 16:07:00,520 - mmcls - INFO - Saving checkpoint at 190 epochs\n"
          ]
        },
        {
          "output_type": "stream",
          "name": "stdout",
          "text": [
            "[>>>>>>>>>>>>>>>>>>>>>>>>>>>>>>] 114/114, 6.8 task/s, elapsed: 17s, ETA:     0s"
          ]
        },
        {
          "output_type": "stream",
          "name": "stderr",
          "text": [
            "2022-10-03 16:07:37,424 - mmcls - INFO - Epoch(val) [190][2]\taccuracy_top-1: 49.1228, accuracy_top-5: 98.2456\n",
            "2022-10-03 16:12:22,234 - mmcls - INFO - Saving checkpoint at 200 epochs\n"
          ]
        },
        {
          "output_type": "stream",
          "name": "stdout",
          "text": [
            "[>>>>>>>>>>>>>>>>>>>>>>>>>>>>>>] 114/114, 6.7 task/s, elapsed: 17s, ETA:     0s"
          ]
        },
        {
          "output_type": "stream",
          "name": "stderr",
          "text": [
            "2022-10-03 16:13:00,397 - mmcls - INFO - Epoch(val) [200][2]\taccuracy_top-1: 50.0000, accuracy_top-5: 98.2456\n"
          ]
        }
      ],
      "source": [
        "train_model(type = \"mmcls\", \n",
        "            mmcls_config_path = \"src/mmclassification/configs/vit_butterfly.py\", \n",
        "            data_path = \"data/butterfly_mimics\")"
      ]
    },
    {
      "cell_type": "code",
      "execution_count": 3,
      "metadata": {
        "id": "C45-2gqkuDys",
        "colab": {
          "base_uri": "https://localhost:8080/"
        },
        "outputId": "989dbe89-47ec-4b24-916b-3f870fbdaf71"
      },
      "outputs": [
        {
          "output_type": "stream",
          "name": "stdout",
          "text": [
            "load checkpoint from local path: work_dirs/vit_butterfly/epoch_200.pth\n",
            "[>>>>>>>>>>>>>>>>>>>>>>>>>>>>>>] 114/114, 6.3 task/s, elapsed: 18s, ETA:     0s\n",
            "accuracy_top-1 : 50.0\n",
            "\n",
            "accuracy_top-5 : 98.25\n",
            "\n",
            "dumping results to predictions.json\n"
          ]
        }
      ],
      "source": [
        "test_model(mmcls_config_path = \"src/mmclassification/configs/vit_butterfly.py\", \n",
        "            checkpoint = \"work_dirs/vit_butterfly/epoch_200.pth\")"
      ]
    },
    {
      "cell_type": "code",
      "source": [],
      "metadata": {
        "id": "O5IyHit3pP_Z"
      },
      "execution_count": null,
      "outputs": []
    }
  ],
  "metadata": {
    "accelerator": "GPU",
    "colab": {
      "provenance": [],
      "authorship_tag": "ABX9TyPcuSBmBiayZikAdiR+fCkY",
      "include_colab_link": true
    },
    "kernelspec": {
      "display_name": "Python 3",
      "name": "python3"
    },
    "language_info": {
      "name": "python"
    },
    "widgets": {
      "application/vnd.jupyter.widget-state+json": {
        "05d669fcd9134fd78150837fa58fc578": {
          "model_module": "@jupyter-widgets/base",
          "model_module_version": "1.2.0",
          "model_name": "LayoutModel",
          "state": {
            "_model_module": "@jupyter-widgets/base",
            "_model_module_version": "1.2.0",
            "_model_name": "LayoutModel",
            "_view_count": null,
            "_view_module": "@jupyter-widgets/base",
            "_view_module_version": "1.2.0",
            "_view_name": "LayoutView",
            "align_content": null,
            "align_items": null,
            "align_self": null,
            "border": null,
            "bottom": null,
            "display": null,
            "flex": null,
            "flex_flow": null,
            "grid_area": null,
            "grid_auto_columns": null,
            "grid_auto_flow": null,
            "grid_auto_rows": null,
            "grid_column": null,
            "grid_gap": null,
            "grid_row": null,
            "grid_template_areas": null,
            "grid_template_columns": null,
            "grid_template_rows": null,
            "height": null,
            "justify_content": null,
            "justify_items": null,
            "left": null,
            "margin": null,
            "max_height": null,
            "max_width": null,
            "min_height": null,
            "min_width": null,
            "object_fit": null,
            "object_position": null,
            "order": null,
            "overflow": null,
            "overflow_x": null,
            "overflow_y": null,
            "padding": null,
            "right": null,
            "top": null,
            "visibility": null,
            "width": null
          }
        },
        "0d84b3779bc743b6abaf3c82f4563b52": {
          "model_module": "@jupyter-widgets/base",
          "model_module_version": "1.2.0",
          "model_name": "LayoutModel",
          "state": {
            "_model_module": "@jupyter-widgets/base",
            "_model_module_version": "1.2.0",
            "_model_name": "LayoutModel",
            "_view_count": null,
            "_view_module": "@jupyter-widgets/base",
            "_view_module_version": "1.2.0",
            "_view_name": "LayoutView",
            "align_content": null,
            "align_items": null,
            "align_self": null,
            "border": null,
            "bottom": null,
            "display": null,
            "flex": null,
            "flex_flow": null,
            "grid_area": null,
            "grid_auto_columns": null,
            "grid_auto_flow": null,
            "grid_auto_rows": null,
            "grid_column": null,
            "grid_gap": null,
            "grid_row": null,
            "grid_template_areas": null,
            "grid_template_columns": null,
            "grid_template_rows": null,
            "height": null,
            "justify_content": null,
            "justify_items": null,
            "left": null,
            "margin": null,
            "max_height": null,
            "max_width": null,
            "min_height": null,
            "min_width": null,
            "object_fit": null,
            "object_position": null,
            "order": null,
            "overflow": null,
            "overflow_x": null,
            "overflow_y": null,
            "padding": null,
            "right": null,
            "top": null,
            "visibility": null,
            "width": null
          }
        },
        "1ec571184aea48109b88b2891cb5ee5c": {
          "model_module": "@jupyter-widgets/controls",
          "model_module_version": "1.5.0",
          "model_name": "FloatProgressModel",
          "state": {
            "_dom_classes": [],
            "_model_module": "@jupyter-widgets/controls",
            "_model_module_version": "1.5.0",
            "_model_name": "FloatProgressModel",
            "_view_count": null,
            "_view_module": "@jupyter-widgets/controls",
            "_view_module_version": "1.5.0",
            "_view_name": "ProgressView",
            "bar_style": "success",
            "description": "",
            "description_tooltip": null,
            "layout": "IPY_MODEL_5615fc0d3a624281897c5ccbed779b32",
            "max": 102533316,
            "min": 0,
            "orientation": "horizontal",
            "style": "IPY_MODEL_8034d51045c34de68264768356aa7261",
            "value": 102533316
          }
        },
        "23f7c89e00a6402f8243efc6bd18c7bb": {
          "model_module": "@jupyter-widgets/controls",
          "model_module_version": "1.5.0",
          "model_name": "HTMLModel",
          "state": {
            "_dom_classes": [],
            "_model_module": "@jupyter-widgets/controls",
            "_model_module_version": "1.5.0",
            "_model_name": "HTMLModel",
            "_view_count": null,
            "_view_module": "@jupyter-widgets/controls",
            "_view_module_version": "1.5.0",
            "_view_name": "HTMLView",
            "description": "",
            "description_tooltip": null,
            "layout": "IPY_MODEL_0d84b3779bc743b6abaf3c82f4563b52",
            "placeholder": "​",
            "style": "IPY_MODEL_31919660ccc6423888bc01ab13d34222",
            "value": "100%"
          }
        },
        "31919660ccc6423888bc01ab13d34222": {
          "model_module": "@jupyter-widgets/controls",
          "model_module_version": "1.5.0",
          "model_name": "DescriptionStyleModel",
          "state": {
            "_model_module": "@jupyter-widgets/controls",
            "_model_module_version": "1.5.0",
            "_model_name": "DescriptionStyleModel",
            "_view_count": null,
            "_view_module": "@jupyter-widgets/base",
            "_view_module_version": "1.2.0",
            "_view_name": "StyleView",
            "description_width": ""
          }
        },
        "5615fc0d3a624281897c5ccbed779b32": {
          "model_module": "@jupyter-widgets/base",
          "model_module_version": "1.2.0",
          "model_name": "LayoutModel",
          "state": {
            "_model_module": "@jupyter-widgets/base",
            "_model_module_version": "1.2.0",
            "_model_name": "LayoutModel",
            "_view_count": null,
            "_view_module": "@jupyter-widgets/base",
            "_view_module_version": "1.2.0",
            "_view_name": "LayoutView",
            "align_content": null,
            "align_items": null,
            "align_self": null,
            "border": null,
            "bottom": null,
            "display": null,
            "flex": null,
            "flex_flow": null,
            "grid_area": null,
            "grid_auto_columns": null,
            "grid_auto_flow": null,
            "grid_auto_rows": null,
            "grid_column": null,
            "grid_gap": null,
            "grid_row": null,
            "grid_template_areas": null,
            "grid_template_columns": null,
            "grid_template_rows": null,
            "height": null,
            "justify_content": null,
            "justify_items": null,
            "left": null,
            "margin": null,
            "max_height": null,
            "max_width": null,
            "min_height": null,
            "min_width": null,
            "object_fit": null,
            "object_position": null,
            "order": null,
            "overflow": null,
            "overflow_x": null,
            "overflow_y": null,
            "padding": null,
            "right": null,
            "top": null,
            "visibility": null,
            "width": null
          }
        },
        "6400c0dea4d04c15abc01e610f32700f": {
          "model_module": "@jupyter-widgets/controls",
          "model_module_version": "1.5.0",
          "model_name": "HBoxModel",
          "state": {
            "_dom_classes": [],
            "_model_module": "@jupyter-widgets/controls",
            "_model_module_version": "1.5.0",
            "_model_name": "HBoxModel",
            "_view_count": null,
            "_view_module": "@jupyter-widgets/controls",
            "_view_module_version": "1.5.0",
            "_view_name": "HBoxView",
            "box_style": "",
            "children": [
              "IPY_MODEL_23f7c89e00a6402f8243efc6bd18c7bb",
              "IPY_MODEL_1ec571184aea48109b88b2891cb5ee5c",
              "IPY_MODEL_879702449978412b89ad3c3a566f9654"
            ],
            "layout": "IPY_MODEL_98059debe4b048cc8a715e6def9c3cf8"
          }
        },
        "8034d51045c34de68264768356aa7261": {
          "model_module": "@jupyter-widgets/controls",
          "model_module_version": "1.5.0",
          "model_name": "ProgressStyleModel",
          "state": {
            "_model_module": "@jupyter-widgets/controls",
            "_model_module_version": "1.5.0",
            "_model_name": "ProgressStyleModel",
            "_view_count": null,
            "_view_module": "@jupyter-widgets/base",
            "_view_module_version": "1.2.0",
            "_view_name": "StyleView",
            "bar_color": null,
            "description_width": ""
          }
        },
        "879702449978412b89ad3c3a566f9654": {
          "model_module": "@jupyter-widgets/controls",
          "model_module_version": "1.5.0",
          "model_name": "HTMLModel",
          "state": {
            "_dom_classes": [],
            "_model_module": "@jupyter-widgets/controls",
            "_model_module_version": "1.5.0",
            "_model_name": "HTMLModel",
            "_view_count": null,
            "_view_module": "@jupyter-widgets/controls",
            "_view_module_version": "1.5.0",
            "_view_name": "HTMLView",
            "description": "",
            "description_tooltip": null,
            "layout": "IPY_MODEL_05d669fcd9134fd78150837fa58fc578",
            "placeholder": "​",
            "style": "IPY_MODEL_c9b6bc5f698d457db815f62127df72a6",
            "value": " 97.8M/97.8M [00:07&lt;00:00, 13.3MB/s]"
          }
        },
        "98059debe4b048cc8a715e6def9c3cf8": {
          "model_module": "@jupyter-widgets/base",
          "model_module_version": "1.2.0",
          "model_name": "LayoutModel",
          "state": {
            "_model_module": "@jupyter-widgets/base",
            "_model_module_version": "1.2.0",
            "_model_name": "LayoutModel",
            "_view_count": null,
            "_view_module": "@jupyter-widgets/base",
            "_view_module_version": "1.2.0",
            "_view_name": "LayoutView",
            "align_content": null,
            "align_items": null,
            "align_self": null,
            "border": null,
            "bottom": null,
            "display": null,
            "flex": null,
            "flex_flow": null,
            "grid_area": null,
            "grid_auto_columns": null,
            "grid_auto_flow": null,
            "grid_auto_rows": null,
            "grid_column": null,
            "grid_gap": null,
            "grid_row": null,
            "grid_template_areas": null,
            "grid_template_columns": null,
            "grid_template_rows": null,
            "height": null,
            "justify_content": null,
            "justify_items": null,
            "left": null,
            "margin": null,
            "max_height": null,
            "max_width": null,
            "min_height": null,
            "min_width": null,
            "object_fit": null,
            "object_position": null,
            "order": null,
            "overflow": null,
            "overflow_x": null,
            "overflow_y": null,
            "padding": null,
            "right": null,
            "top": null,
            "visibility": null,
            "width": null
          }
        },
        "c9b6bc5f698d457db815f62127df72a6": {
          "model_module": "@jupyter-widgets/controls",
          "model_module_version": "1.5.0",
          "model_name": "DescriptionStyleModel",
          "state": {
            "_model_module": "@jupyter-widgets/controls",
            "_model_module_version": "1.5.0",
            "_model_name": "DescriptionStyleModel",
            "_view_count": null,
            "_view_module": "@jupyter-widgets/base",
            "_view_module_version": "1.2.0",
            "_view_name": "StyleView",
            "description_width": ""
          }
        }
      }
    }
  },
  "nbformat": 4,
  "nbformat_minor": 0
}