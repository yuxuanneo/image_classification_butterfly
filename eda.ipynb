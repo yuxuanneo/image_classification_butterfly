{
 "cells": [
  {
   "cell_type": "code",
   "execution_count": 11,
   "metadata": {},
   "outputs": [],
   "source": [
    "import pandas as pd\n",
    "import numpy as np\n",
    "\n",
    "from PIL import Image\n",
    "import seaborn as sns\n",
    "import matplotlib.pyplot as plt\n",
    "\n",
    "from src.plotting_functions import plot_value_counts"
   ]
  },
  {
   "cell_type": "code",
   "execution_count": 2,
   "metadata": {},
   "outputs": [],
   "source": [
    "df = pd.read_csv(\"data/butterfly_mimics/images.csv\")"
   ]
  },
  {
   "cell_type": "markdown",
   "metadata": {},
   "source": [
    "Preliminary check to ensure that there is no missing data in the train set. "
   ]
  },
  {
   "cell_type": "code",
   "execution_count": 3,
   "metadata": {},
   "outputs": [
    {
     "data": {
      "text/plain": [
       "image    0\n",
       "name     0\n",
       "stage    0\n",
       "side     0\n",
       "dtype: int64"
      ]
     },
     "execution_count": 3,
     "metadata": {},
     "output_type": "execute_result"
    }
   ],
   "source": [
    "df.isnull().sum()"
   ]
  },
  {
   "cell_type": "markdown",
   "metadata": {},
   "source": [
    "### Data Overview\n",
    "\n",
    "Train set contains 853 images, with the following features in the csv file:\n",
    "- image: file name of the corresponding .jpg file\n",
    "- Name: name of the butterfly species. This is also the **label**. There are 6 classes in this multi-class image classification problem\n",
    "- stage: the lifecycle stage butterfly is in.  \n",
    "- side: side of the butterfly where the photo is taken. There are 3 unique categories for this feature.\n",
    "\n",
    "Few observations from the dataset:\n",
    "- image types are all in .jpg format, so we won't have to account for more uncommon image file types. \n",
    "- All images have been given the \"adult\" category for the stage feature. Given that there is no variance in the lifecycle stage of the images, the 'stage' feature is likely inconsequential for our problem"
   ]
  },
  {
   "cell_type": "code",
   "execution_count": 4,
   "metadata": {},
   "outputs": [
    {
     "data": {
      "text/plain": [
       "(853, 4)"
      ]
     },
     "execution_count": 4,
     "metadata": {},
     "output_type": "execute_result"
    }
   ],
   "source": [
    "df.shape"
   ]
  },
  {
   "cell_type": "markdown",
   "metadata": {},
   "source": [
    "### Target distribution\n",
    "1. Biggest proportion (22.5%) of images belong to the 'pipevine' class, while 'spicebush' (12.7%) and 'viceroy' (12.8%) had the smallest proportions of images.\n",
    "2. As there is some inbalance in the class distribution, it would be helpful to stratify on classes when we perform the train-val split during model training. This ensures that no class is over/under represented and that the original proportions of examples are kept.\n"
   ]
  },
  {
   "cell_type": "code",
   "execution_count": 5,
   "metadata": {},
   "outputs": [
    {
     "data": {
      "image/png": "[encoded data removed]",
      "text/plain": [
       "<Figure size 792x360 with 1 Axes>"
      ]
     },
     "metadata": {
      "needs_background": "light"
     },
     "output_type": "display_data"
    }
   ],
   "source": [
    "plot_value_counts(df = df, feature_x = \"name\")"
   ]
  },
  {
   "cell_type": "markdown",
   "metadata": {},
   "source": [
    "### Side distribution\n",
    "1. Dorsal had the highest proportion of images (53.9%), and ventral had the smallest proportion (21.9%)\n",
    "2. As there is quite a bit of variation across the distribution, it could also be worthwhile to consider this feature during the splitting of data into train and validation sets. "
   ]
  },
  {
   "cell_type": "code",
   "execution_count": 6,
   "metadata": {},
   "outputs": [
    {
     "data": {
      "image/png": "[encoded data removed]",
      "text/plain": [
       "<Figure size 792x360 with 1 Axes>"
      ]
     },
     "metadata": {
      "needs_background": "light"
     },
     "output_type": "display_data"
    }
   ],
   "source": [
    "plot_value_counts(df = df, feature_x = \"side\")"
   ]
  },
  {
   "cell_type": "markdown",
   "metadata": {},
   "source": [
    "### crosstab between name and side\n",
    "- As expected, when segmented by classes, the most dominant side is often dorsal, with the exception of the monarch butterflies. For this class of butterflies, most of the images provided tend to be taken from the ventral side. \n",
    "- Given that there is variation in the sides of the photos conditional on class, this reinforces the notion that the train-validation split should take both features into account. Besides, the side feature should be an important feature in the model, as the same species of butterfly may look different depending on the side the photo is taken.  "
   ]
  },
  {
   "cell_type": "code",
   "execution_count": 10,
   "metadata": {},
   "outputs": [
    {
     "data": {
      "text/html": [
       "<div>\n",
       "<style scoped>\n",
       "    .dataframe tbody tr th:only-of-type {\n",
       "        vertical-align: middle;\n",
       "    }\n",
       "\n",
       "    .dataframe tbody tr th {\n",
       "        vertical-align: top;\n",
       "    }\n",
       "\n",
       "    .dataframe thead th {\n",
       "        text-align: right;\n",
       "    }\n",
       "</style>\n",
       "<table border=\"1\" class=\"dataframe\">\n",
       "  <thead>\n",
       "    <tr style=\"text-align: right;\">\n",
       "      <th>side</th>\n",
       "      <th>both</th>\n",
       "      <th>dorsal</th>\n",
       "      <th>ventral</th>\n",
       "    </tr>\n",
       "    <tr>\n",
       "      <th>name</th>\n",
       "      <th></th>\n",
       "      <th></th>\n",
       "      <th></th>\n",
       "    </tr>\n",
       "  </thead>\n",
       "  <tbody>\n",
       "    <tr>\n",
       "      <th>black</th>\n",
       "      <td>0.275000</td>\n",
       "      <td>0.637500</td>\n",
       "      <td>0.087500</td>\n",
       "    </tr>\n",
       "    <tr>\n",
       "      <th>monarch</th>\n",
       "      <td>0.151515</td>\n",
       "      <td>0.393939</td>\n",
       "      <td>0.454545</td>\n",
       "    </tr>\n",
       "    <tr>\n",
       "      <th>pipevine</th>\n",
       "      <td>0.343750</td>\n",
       "      <td>0.401042</td>\n",
       "      <td>0.255208</td>\n",
       "    </tr>\n",
       "    <tr>\n",
       "      <th>spicebush</th>\n",
       "      <td>0.333333</td>\n",
       "      <td>0.509259</td>\n",
       "      <td>0.157407</td>\n",
       "    </tr>\n",
       "    <tr>\n",
       "      <th>tiger</th>\n",
       "      <td>0.151316</td>\n",
       "      <td>0.743421</td>\n",
       "      <td>0.105263</td>\n",
       "    </tr>\n",
       "    <tr>\n",
       "      <th>viceroy</th>\n",
       "      <td>0.155963</td>\n",
       "      <td>0.559633</td>\n",
       "      <td>0.284404</td>\n",
       "    </tr>\n",
       "  </tbody>\n",
       "</table>\n",
       "</div>"
      ],
      "text/plain": [
       "side           both    dorsal   ventral\n",
       "name                                   \n",
       "black      0.275000  0.637500  0.087500\n",
       "monarch    0.151515  0.393939  0.454545\n",
       "pipevine   0.343750  0.401042  0.255208\n",
       "spicebush  0.333333  0.509259  0.157407\n",
       "tiger      0.151316  0.743421  0.105263\n",
       "viceroy    0.155963  0.559633  0.284404"
      ]
     },
     "execution_count": 10,
     "metadata": {},
     "output_type": "execute_result"
    }
   ],
   "source": [
    "pd.crosstab(df[\"name\"], df[\"side\"], normalize=\"index\")"
   ]
  },
  {
   "cell_type": "markdown",
   "metadata": {},
   "source": [
    "### Data loading\n",
    "- loading of image data into a dictionary, where key is the name of butterfly and value is the list of images (as PIL object)\n"
   ]
  },
  {
   "cell_type": "code",
   "execution_count": 25,
   "metadata": {},
   "outputs": [],
   "source": [
    "imgs = {class_:[] for class_ in df[\"name\"].unique()}\n",
    "\n",
    "IMG_PREFIX = \"data/butterfly_mimics/images/\"\n",
    "\n",
    "for idx, row in df.iterrows():\n",
    "    img_path = IMG_PREFIX + row[\"image\"] + \".jpg\"\n",
    "    class_ = row[\"name\"]\n",
    "    imgs[class_] += [Image.open(img_path)]\n"
   ]
  },
  {
   "cell_type": "code",
   "execution_count": 28,
   "metadata": {},
   "outputs": [
    {
     "data": {
      "text/plain": [
       "{'monarch': 132,\n",
       " 'tiger': 152,\n",
       " 'black': 160,\n",
       " 'pipevine': 192,\n",
       " 'viceroy': 109,\n",
       " 'spicebush': 108}"
      ]
     },
     "execution_count": 28,
     "metadata": {},
     "output_type": "execute_result"
    }
   ],
   "source": [
    "# check that all images have beens successfully read\n",
    "{class_: len(images) for class_, images in imgs.items()}"
   ]
  },
  {
   "cell_type": "code",
   "execution_count": 34,
   "metadata": {},
   "outputs": [],
   "source": [
    "IMG_PREFIX = \"data/butterfly_mimics/images/\"\n",
    "\n",
    "df[\"img_pil\"] = df[\"image\"].apply(lambda x: Image.open(IMG_PREFIX + x + \".jpg\"))\n",
    "    "
   ]
  },
  {
   "cell_type": "code",
   "execution_count": 41,
   "metadata": {},
   "outputs": [],
   "source": [
    "df[\"img_height\"] = df[\"img_pil\"].apply(lambda x: x.size[0])\n",
    "df[\"img_width\"] = df[\"img_pil\"].apply(lambda x: x.size[1])\n",
    "df[\"img_size\"] = df[\"img_height\"].astype(str) + \"x\" + df[\"img_width\"] .astype(str)"
   ]
  },
  {
   "cell_type": "code",
   "execution_count": 43,
   "metadata": {},
   "outputs": [
    {
     "data": {
      "text/plain": [
       "224x224    850\n",
       "224x235      1\n",
       "256x224      1\n",
       "238x224      1\n",
       "Name: img_size, dtype: int64"
      ]
     },
     "execution_count": 43,
     "metadata": {},
     "output_type": "execute_result"
    }
   ],
   "source": [
    "df[\"img_size\"].value_counts()"
   ]
  },
  {
   "cell_type": "code",
   "execution_count": null,
   "metadata": {},
   "outputs": [],
   "source": []
  }
 ],
 "metadata": {
  "kernelspec": {
   "display_name": "Python ('butterfly')",
   "language": "python",
   "name": "python3"
  },
  "language_info": {
   "codemirror_mode": {
    "name": "ipython",
    "version": 3
   },
   "file_extension": ".py",
   "mimetype": "text/x-python",
   "name": "python",
   "nbconvert_exporter": "python",
   "pygments_lexer": "ipython3",
   "version": "3.10.1"
  },
  "orig_nbformat": 4,
  "vscode": {
   "interpreter": {
    "hash": "25a19fbe0a9132dfb9279d48d161753c6352f8f9478c2e74383d340069b907c3"
   }
  }
 },
 "nbformat": 4,
 "nbformat_minor": 2
}
