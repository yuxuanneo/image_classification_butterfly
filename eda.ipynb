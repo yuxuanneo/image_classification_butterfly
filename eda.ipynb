{
 "cells": [
  {
   "cell_type": "code",
   "execution_count": 1,
   "metadata": {},
   "outputs": [],
   "source": [
    "import pandas as pd\n",
    "import numpy as np\n",
    "\n",
    "from PIL import Image, ImageStat\n",
    "import seaborn as sns\n",
    "import matplotlib.pyplot as plt\n",
    "\n",
    "from src.plotting_functions import plot_value_counts, numerical_histogram_1d, plot_cont_per_class\n",
    "\n",
    "from basic_image_eda import BasicImageEDA\n"
   ]
  },
  {
   "cell_type": "code",
   "execution_count": 2,
   "metadata": {},
   "outputs": [],
   "source": [
    "df = pd.read_csv(\"data/butterfly_mimics/images.csv\")"
   ]
  },
  {
   "cell_type": "code",
   "execution_count": 3,
   "metadata": {},
   "outputs": [
    {
     "data": {
      "text/html": [
       "<div>\n",
       "<style scoped>\n",
       "    .dataframe tbody tr th:only-of-type {\n",
       "        vertical-align: middle;\n",
       "    }\n",
       "\n",
       "    .dataframe tbody tr th {\n",
       "        vertical-align: top;\n",
       "    }\n",
       "\n",
       "    .dataframe thead th {\n",
       "        text-align: right;\n",
       "    }\n",
       "</style>\n",
       "<table border=\"1\" class=\"dataframe\">\n",
       "  <thead>\n",
       "    <tr style=\"text-align: right;\">\n",
       "      <th></th>\n",
       "      <th>image</th>\n",
       "      <th>name</th>\n",
       "      <th>stage</th>\n",
       "      <th>side</th>\n",
       "    </tr>\n",
       "  </thead>\n",
       "  <tbody>\n",
       "    <tr>\n",
       "      <th>0</th>\n",
       "      <td>ggc1e08cbc</td>\n",
       "      <td>monarch</td>\n",
       "      <td>adult</td>\n",
       "      <td>ventral</td>\n",
       "    </tr>\n",
       "    <tr>\n",
       "      <th>1</th>\n",
       "      <td>gh150f104b</td>\n",
       "      <td>tiger</td>\n",
       "      <td>adult</td>\n",
       "      <td>both</td>\n",
       "    </tr>\n",
       "    <tr>\n",
       "      <th>2</th>\n",
       "      <td>gh20ab0d9c</td>\n",
       "      <td>black</td>\n",
       "      <td>adult</td>\n",
       "      <td>dorsal</td>\n",
       "    </tr>\n",
       "    <tr>\n",
       "      <th>3</th>\n",
       "      <td>gh2d5c8c79</td>\n",
       "      <td>monarch</td>\n",
       "      <td>adult</td>\n",
       "      <td>dorsal</td>\n",
       "    </tr>\n",
       "    <tr>\n",
       "      <th>4</th>\n",
       "      <td>gh6adf74a4</td>\n",
       "      <td>pipevine</td>\n",
       "      <td>adult</td>\n",
       "      <td>dorsal</td>\n",
       "    </tr>\n",
       "  </tbody>\n",
       "</table>\n",
       "</div>"
      ],
      "text/plain": [
       "        image      name  stage     side\n",
       "0  ggc1e08cbc   monarch  adult  ventral\n",
       "1  gh150f104b     tiger  adult     both\n",
       "2  gh20ab0d9c     black  adult   dorsal\n",
       "3  gh2d5c8c79   monarch  adult   dorsal\n",
       "4  gh6adf74a4  pipevine  adult   dorsal"
      ]
     },
     "execution_count": 3,
     "metadata": {},
     "output_type": "execute_result"
    }
   ],
   "source": [
    "df.head()"
   ]
  },
  {
   "cell_type": "markdown",
   "metadata": {},
   "source": [
    "Preliminary check to ensure that there is no missing data in the train set. "
   ]
  },
  {
   "cell_type": "code",
   "execution_count": 3,
   "metadata": {},
   "outputs": [
    {
     "data": {
      "text/plain": [
       "image    0\n",
       "name     0\n",
       "stage    0\n",
       "side     0\n",
       "dtype: int64"
      ]
     },
     "execution_count": 3,
     "metadata": {},
     "output_type": "execute_result"
    }
   ],
   "source": [
    "df.isnull().sum()"
   ]
  },
  {
   "cell_type": "markdown",
   "metadata": {},
   "source": [
    "### Data Overview\n",
    "\n",
    "Train set contains 853 images, with the following features in the csv file:\n",
    "- image: file name of the corresponding .jpg file\n",
    "- Name: name of the butterfly species. This is also the **label**. There are 6 classes in this multi-class image classification problem\n",
    "- stage: the lifecycle stage butterfly is in.  \n",
    "- side: side of the butterfly where the photo is taken. There are 3 unique categories for this feature.\n",
    "\n",
    "Few observations from the dataset:\n",
    "- image types are all in .jpg format, so we won't have to account for more uncommon image file types. \n",
    "- All images have been given the \"adult\" category for the stage feature. Given that there is no variance in the lifecycle stage of the images, the 'stage' feature is likely inconsequential for our problem"
   ]
  },
  {
   "cell_type": "code",
   "execution_count": 4,
   "metadata": {},
   "outputs": [
    {
     "data": {
      "text/plain": [
       "(853, 4)"
      ]
     },
     "execution_count": 4,
     "metadata": {},
     "output_type": "execute_result"
    }
   ],
   "source": [
    "df.shape"
   ]
  },
  {
   "cell_type": "markdown",
   "metadata": {},
   "source": [
    "### Target distribution\n",
    "1. Biggest proportion (22.5%) of images belong to the 'pipevine' class, while 'spicebush' (12.7%) and 'viceroy' (12.8%) had the smallest proportions of images.\n",
    "2. As there is some inbalance in the class distribution, it would be helpful to stratify on classes when we perform the train-val split during model training. This ensures that no class is over/under represented and that the original proportions of examples are kept.\n"
   ]
  },
  {
   "cell_type": "code",
   "execution_count": 5,
   "metadata": {},
   "outputs": [
    {
     "data": {
      "image/png": "[encoded data removed]",
      "text/plain": [
       "<Figure size 792x360 with 1 Axes>"
      ]
     },
     "metadata": {
      "needs_background": "light"
     },
     "output_type": "display_data"
    }
   ],
   "source": [
    "plot_value_counts(df = df, feature_x = \"name\")"
   ]
  },
  {
   "cell_type": "markdown",
   "metadata": {},
   "source": [
    "### Side distribution\n",
    "1. Dorsal had the highest proportion of images (53.9%), and ventral had the smallest proportion (21.9%)\n",
    "2. As there is quite a bit of variation across the distribution, it could also be worthwhile to consider this feature during the splitting of data into train and validation sets. "
   ]
  },
  {
   "cell_type": "code",
   "execution_count": 6,
   "metadata": {},
   "outputs": [
    {
     "data": {
      "image/png": "[encoded data removed]",
      "text/plain": [
       "<Figure size 792x360 with 1 Axes>"
      ]
     },
     "metadata": {
      "needs_background": "light"
     },
     "output_type": "display_data"
    }
   ],
   "source": [
    "plot_value_counts(df = df, feature_x = \"side\")"
   ]
  },
  {
   "cell_type": "markdown",
   "metadata": {},
   "source": [
    "### crosstab between name and side\n",
    "- As expected, when segmented by classes, the most dominant side is often dorsal, with the exception of the monarch butterflies. For this class of butterflies, most of the images provided tend to be taken from the ventral side. \n",
    "- Given that there is variation in the sides of the photos conditional on class, this reinforces the notion that the train-validation split should take both features into account. Besides, the side feature should be an important feature in the model, as the same species of butterfly may look different depending on the side the photo is taken.  "
   ]
  },
  {
   "cell_type": "code",
   "execution_count": 7,
   "metadata": {},
   "outputs": [
    {
     "data": {
      "text/html": [
       "<div>\n",
       "<style scoped>\n",
       "    .dataframe tbody tr th:only-of-type {\n",
       "        vertical-align: middle;\n",
       "    }\n",
       "\n",
       "    .dataframe tbody tr th {\n",
       "        vertical-align: top;\n",
       "    }\n",
       "\n",
       "    .dataframe thead th {\n",
       "        text-align: right;\n",
       "    }\n",
       "</style>\n",
       "<table border=\"1\" class=\"dataframe\">\n",
       "  <thead>\n",
       "    <tr style=\"text-align: right;\">\n",
       "      <th>side</th>\n",
       "      <th>both</th>\n",
       "      <th>dorsal</th>\n",
       "      <th>ventral</th>\n",
       "    </tr>\n",
       "    <tr>\n",
       "      <th>name</th>\n",
       "      <th></th>\n",
       "      <th></th>\n",
       "      <th></th>\n",
       "    </tr>\n",
       "  </thead>\n",
       "  <tbody>\n",
       "    <tr>\n",
       "      <th>black</th>\n",
       "      <td>0.275000</td>\n",
       "      <td>0.637500</td>\n",
       "      <td>0.087500</td>\n",
       "    </tr>\n",
       "    <tr>\n",
       "      <th>monarch</th>\n",
       "      <td>0.151515</td>\n",
       "      <td>0.393939</td>\n",
       "      <td>0.454545</td>\n",
       "    </tr>\n",
       "    <tr>\n",
       "      <th>pipevine</th>\n",
       "      <td>0.343750</td>\n",
       "      <td>0.401042</td>\n",
       "      <td>0.255208</td>\n",
       "    </tr>\n",
       "    <tr>\n",
       "      <th>spicebush</th>\n",
       "      <td>0.333333</td>\n",
       "      <td>0.509259</td>\n",
       "      <td>0.157407</td>\n",
       "    </tr>\n",
       "    <tr>\n",
       "      <th>tiger</th>\n",
       "      <td>0.151316</td>\n",
       "      <td>0.743421</td>\n",
       "      <td>0.105263</td>\n",
       "    </tr>\n",
       "    <tr>\n",
       "      <th>viceroy</th>\n",
       "      <td>0.155963</td>\n",
       "      <td>0.559633</td>\n",
       "      <td>0.284404</td>\n",
       "    </tr>\n",
       "  </tbody>\n",
       "</table>\n",
       "</div>"
      ],
      "text/plain": [
       "side           both    dorsal   ventral\n",
       "name                                   \n",
       "black      0.275000  0.637500  0.087500\n",
       "monarch    0.151515  0.393939  0.454545\n",
       "pipevine   0.343750  0.401042  0.255208\n",
       "spicebush  0.333333  0.509259  0.157407\n",
       "tiger      0.151316  0.743421  0.105263\n",
       "viceroy    0.155963  0.559633  0.284404"
      ]
     },
     "execution_count": 7,
     "metadata": {},
     "output_type": "execute_result"
    }
   ],
   "source": [
    "pd.crosstab(df[\"name\"], df[\"side\"], normalize=\"index\")"
   ]
  },
  {
   "cell_type": "markdown",
   "metadata": {},
   "source": [
    "### Data loading\n",
    "- loading of image data into a dictionary, where key is the name of butterfly and value is the list of images (as PIL object)\n"
   ]
  },
  {
   "cell_type": "code",
   "execution_count": 8,
   "metadata": {},
   "outputs": [],
   "source": [
    "imgs = {class_:[] for class_ in df[\"name\"].unique()}\n",
    "\n",
    "IMG_PREFIX = \"data/butterfly_mimics/images/\"\n",
    "\n",
    "for idx, row in df.iterrows():\n",
    "    img_path = IMG_PREFIX + row[\"image\"] + \".jpg\"\n",
    "    class_ = row[\"name\"]\n",
    "    imgs[class_] += [Image.open(img_path)]\n"
   ]
  },
  {
   "cell_type": "code",
   "execution_count": 9,
   "metadata": {},
   "outputs": [
    {
     "data": {
      "text/plain": [
       "{'monarch': 132,\n",
       " 'tiger': 152,\n",
       " 'black': 160,\n",
       " 'pipevine': 192,\n",
       " 'viceroy': 109,\n",
       " 'spicebush': 108}"
      ]
     },
     "execution_count": 9,
     "metadata": {},
     "output_type": "execute_result"
    }
   ],
   "source": [
    "# check that all images have beens successfully read\n",
    "{class_: len(images) for class_, images in imgs.items()}"
   ]
  },
  {
   "cell_type": "code",
   "execution_count": 10,
   "metadata": {},
   "outputs": [],
   "source": [
    "IMG_PREFIX = \"data/butterfly_mimics/images/\"\n",
    "\n",
    "df[\"img_pil\"] = df[\"image\"].apply(lambda x: Image.open(IMG_PREFIX + x + \".jpg\"))\n",
    "    "
   ]
  },
  {
   "cell_type": "markdown",
   "metadata": {},
   "source": [
    "Almost all fo the images are 224x224. The remaining 3 images have 224x235, 256x224 and 238x224 as their image sizes. It is also unlikely that the image dimensions would inform us on the class of the image, as the images with the different image sizes belong to mostly different classes. "
   ]
  },
  {
   "cell_type": "code",
   "execution_count": 11,
   "metadata": {},
   "outputs": [
    {
     "data": {
      "text/plain": [
       "224x224    850\n",
       "224x235      1\n",
       "256x224      1\n",
       "238x224      1\n",
       "Name: img_size, dtype: int64"
      ]
     },
     "execution_count": 11,
     "metadata": {},
     "output_type": "execute_result"
    }
   ],
   "source": [
    "df[\"img_height\"] = df[\"img_pil\"].apply(lambda x: x.size[0])\n",
    "df[\"img_width\"] = df[\"img_pil\"].apply(lambda x: x.size[1])\n",
    "df[\"img_size\"] = df[\"img_height\"].astype(str) + \"x\" + df[\"img_width\"] .astype(str)\n",
    "df[\"img_size\"].value_counts()"
   ]
  },
  {
   "cell_type": "code",
   "execution_count": 12,
   "metadata": {},
   "outputs": [
    {
     "data": {
      "text/html": [
       "<div>\n",
       "<style scoped>\n",
       "    .dataframe tbody tr th:only-of-type {\n",
       "        vertical-align: middle;\n",
       "    }\n",
       "\n",
       "    .dataframe tbody tr th {\n",
       "        vertical-align: top;\n",
       "    }\n",
       "\n",
       "    .dataframe thead th {\n",
       "        text-align: right;\n",
       "    }\n",
       "</style>\n",
       "<table border=\"1\" class=\"dataframe\">\n",
       "  <thead>\n",
       "    <tr style=\"text-align: right;\">\n",
       "      <th>img_size</th>\n",
       "      <th>224x224</th>\n",
       "      <th>224x235</th>\n",
       "      <th>238x224</th>\n",
       "      <th>256x224</th>\n",
       "    </tr>\n",
       "    <tr>\n",
       "      <th>name</th>\n",
       "      <th></th>\n",
       "      <th></th>\n",
       "      <th></th>\n",
       "      <th></th>\n",
       "    </tr>\n",
       "  </thead>\n",
       "  <tbody>\n",
       "    <tr>\n",
       "      <th>black</th>\n",
       "      <td>159</td>\n",
       "      <td>1</td>\n",
       "      <td>0</td>\n",
       "      <td>0</td>\n",
       "    </tr>\n",
       "    <tr>\n",
       "      <th>monarch</th>\n",
       "      <td>132</td>\n",
       "      <td>0</td>\n",
       "      <td>0</td>\n",
       "      <td>0</td>\n",
       "    </tr>\n",
       "    <tr>\n",
       "      <th>pipevine</th>\n",
       "      <td>192</td>\n",
       "      <td>0</td>\n",
       "      <td>0</td>\n",
       "      <td>0</td>\n",
       "    </tr>\n",
       "    <tr>\n",
       "      <th>spicebush</th>\n",
       "      <td>108</td>\n",
       "      <td>0</td>\n",
       "      <td>0</td>\n",
       "      <td>0</td>\n",
       "    </tr>\n",
       "    <tr>\n",
       "      <th>tiger</th>\n",
       "      <td>150</td>\n",
       "      <td>0</td>\n",
       "      <td>1</td>\n",
       "      <td>1</td>\n",
       "    </tr>\n",
       "    <tr>\n",
       "      <th>viceroy</th>\n",
       "      <td>109</td>\n",
       "      <td>0</td>\n",
       "      <td>0</td>\n",
       "      <td>0</td>\n",
       "    </tr>\n",
       "  </tbody>\n",
       "</table>\n",
       "</div>"
      ],
      "text/plain": [
       "img_size   224x224  224x235  238x224  256x224\n",
       "name                                         \n",
       "black          159        1        0        0\n",
       "monarch        132        0        0        0\n",
       "pipevine       192        0        0        0\n",
       "spicebush      108        0        0        0\n",
       "tiger          150        0        1        1\n",
       "viceroy        109        0        0        0"
      ]
     },
     "execution_count": 12,
     "metadata": {},
     "output_type": "execute_result"
    }
   ],
   "source": [
    "pd.crosstab(df[\"name\"], df[\"img_size\"])"
   ]
  },
  {
   "cell_type": "markdown",
   "metadata": {},
   "source": [
    "### Colour distribution\n",
    "The box plots illustrate the pixel distribution of each class along each RGB channel. The mean pixel intensity is taken for each image, and the means are then used in the plotting of the charts. \n",
    "\n",
    "#### Key observations:\n",
    "- <font color='red'>**red channel**</font>: Interquartile range of all classes are generally comparable, less the viceroy class, where its tails are shorter relative to the other classes. There are also some images with pixel intensities above the upper quartile for each class. The median pixel intensity is highest for the monarch class (around 125) and lowest for tiger class (around 110)\n",
    "- <font color='green'>**green channel**</font>: Similar to the red channel, IQR is comparable across all classes except for viceroy, although the difference in the range is less pronounced than before. The median values were highest for the black, pipevine and spicebush classes (around 122) and lowest for the tiger class (113).\n",
    "- <font color='cornflowerblue'>**blue channel**</font>: The median value is lowest for viceroy class (68) and highest for the pipevine class (83). Relative to other channels, the images tend to not have that prominent a shade of blue as the pixel median pixel values are noticeably lower than the median pixel values for the red and green channels. "
   ]
  },
  {
   "cell_type": "code",
   "execution_count": 13,
   "metadata": {},
   "outputs": [],
   "source": [
    "# get avg pixel values for RGC channels in each image \n",
    "df[\"avg_pixels\"] = df[\"img_pil\"].apply(lambda x: ImageStat.Stat(x).mean)\n",
    "\n",
    "for i, colour in enumerate([\"r\", \"g\", \"b\"]):\n",
    "    df[f\"avg_{colour}\"] = df[\"avg_pixels\"].apply(lambda x: x[i])\n"
   ]
  },
  {
   "cell_type": "code",
   "execution_count": 15,
   "metadata": {},
   "outputs": [
    {
     "data": {
      "image/png": "[encoded data removed]",
      "text/plain": [
       "<Figure size 1296x1440 with 3 Axes>"
      ]
     },
     "metadata": {
      "needs_background": "light"
     },
     "output_type": "display_data"
    }
   ],
   "source": [
    "plot_cont_per_class(df = df, cols_to_plot= [\"avg_r\", \"avg_g\", \"avg_b\"], target = \"name\", fig_size = (18, 20))"
   ]
  },
  {
   "cell_type": "markdown",
   "metadata": {},
   "source": [
    "### Brightness distribution\n",
    "source: https://stackoverflow.com/questions/596216/formula-to-determine-perceived-brightness-of-rgb-color \n",
    "\n",
    "Brightness of images will be derived through the following formula: 0.2126* R + 0.7152* G + 0.0722* B, where R, G and B are the image's mean pixel values for the red, green and blue channels respectively \n",
    "\n",
    "#### Key observations:\n",
    "- There are no classes with images that are particularly dark. Hypothetically, if such a class exists, it could provide useful information on the environment/ time the butterflies are found in, which could be a feature we incorporate into the model to enhance its accuracy. Alternatively, if there were classes with darker images, it may be helpful to focus on tuning the brightness during augmentation before model training.  \n",
    "- The tiger class have the lowest median brightness value (110), while the pipevine class has the highest median brightness value (118)"
   ]
  },
  {
   "cell_type": "code",
   "execution_count": 16,
   "metadata": {},
   "outputs": [],
   "source": [
    "df[\"brightness\"] = df[\"avg_r\"] * 0.2126 + df[\"avg_g\"] * 0.7152 + df[\"avg_b\"] * 0.0722"
   ]
  },
  {
   "cell_type": "code",
   "execution_count": 18,
   "metadata": {},
   "outputs": [
    {
     "data": {
      "image/png": "[encoded data removed]",
      "text/plain": [
       "<Figure size 1296x720 with 1 Axes>"
      ]
     },
     "metadata": {},
     "output_type": "display_data"
    }
   ],
   "source": [
    "plot_cont_per_class(df = df, cols_to_plot= [\"brightness\"], target = \"name\", fig_size = (18, 10))"
   ]
  },
  {
   "cell_type": "code",
   "execution_count": 19,
   "metadata": {},
   "outputs": [
    {
     "data": {
      "text/plain": [
       "name\n",
       "black        117.440493\n",
       "monarch      113.750624\n",
       "pipevine     118.357255\n",
       "spicebush    117.163472\n",
       "tiger        110.250195\n",
       "viceroy      115.356970\n",
       "Name: brightness, dtype: float64"
      ]
     },
     "execution_count": 19,
     "metadata": {},
     "output_type": "execute_result"
    }
   ],
   "source": [
    "df.groupby(\"name\")[\"brightness\"].median()"
   ]
  },
  {
   "cell_type": "code",
   "execution_count": null,
   "metadata": {},
   "outputs": [],
   "source": []
  }
 ],
 "metadata": {
  "kernelspec": {
   "display_name": "Python ('butterfly')",
   "language": "python",
   "name": "python3"
  },
  "language_info": {
   "codemirror_mode": {
    "name": "ipython",
    "version": 3
   },
   "file_extension": ".py",
   "mimetype": "text/x-python",
   "name": "python",
   "nbconvert_exporter": "python",
   "pygments_lexer": "ipython3",
   "version": ""
  },
  "orig_nbformat": 4,
  "vscode": {
   "interpreter": {
    "hash": "25a19fbe0a9132dfb9279d48d161753c6352f8f9478c2e74383d340069b907c3"
   }
  }
 },
 "nbformat": 4,
 "nbformat_minor": 2
}
